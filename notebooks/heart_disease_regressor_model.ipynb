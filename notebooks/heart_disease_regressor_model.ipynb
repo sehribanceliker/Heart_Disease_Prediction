{
 "cells": [
  {
   "cell_type": "markdown",
   "id": "1affb8bc-bfe6-4309-9aec-731f419f17fe",
   "metadata": {},
   "source": [
    "## Heart Disease Mortality Data Among US Adults (35+) by State/Territory and County ##"
   ]
  },
  {
   "cell_type": "markdown",
   "id": "76e15aae-fc7b-4a12-b6ef-859db326ac5d",
   "metadata": {},
   "source": [
    "### Heart diseases prediction with Machine Learning ###"
   ]
  },
  {
   "cell_type": "markdown",
   "id": "08d4f968-ec6f-4b05-92f5-f1281e8da397",
   "metadata": {},
   "source": [
    "##### 2013 to 2015, 3-year average. Rates are age-standardized. County rates are spatially smoothed. The data can be viewed by gender and race/ethnicity. Data source: National Vital Statistics System. Additional data, maps, and methodology can be viewed on the Interactive Atlas of Heart Disease and Stroke http://www.cdc.gov/dhdsp/maps/atlas #####"
   ]
  },
  {
   "cell_type": "markdown",
   "id": "4e7f6fbf-c28b-4138-a533-0075f688b4ba",
   "metadata": {},
   "source": [
    "##### Heart disease, alternatively known as cardiovascular disease, encases various conditions that impact the heart and has been the primary basis of death worldwide over the past few decades. It associates many risk factors in heart disease and the need for accurate, reliable, and sensible approaches to make an early diagnosis to achieve prompt management of the disease. Machine Learning is a commonly used technique for processing enormous amounts of data in the healthcare domain. Researchers apply several data mining and machine learning techniques to analyze complex medical data, helping healthcare professionals predict heart disease.\n",
    "#####"
   ]
  },
  {
   "cell_type": "code",
   "execution_count": 3,
   "id": "bb3f616e-04d9-4c36-9b35-080f0f79b018",
   "metadata": {
    "tags": []
   },
   "outputs": [],
   "source": [
    "# Importing Libraries\n",
    "import pandas as pd\n",
    "import numpy as np\n",
    "from sklearn.model_selection import train_test_split\n",
    "from sklearn.preprocessing import LabelEncoder, StandardScaler\n",
    "from sklearn.ensemble import RandomForestRegressor\n",
    "from sklearn.metrics import mean_squared_error, r2_score;\n",
    "import joblib\n"
   ]
  },
  {
   "cell_type": "markdown",
   "id": "69824193-ba06-446c-ab7f-99ab7268cf9f",
   "metadata": {},
   "source": [
    "### Importing and understanding our dataset ###"
   ]
  },
  {
   "cell_type": "code",
   "execution_count": 1,
   "id": "a9e7ce30-3e9e-439e-ace4-139e1140f893",
   "metadata": {
    "tags": []
   },
   "outputs": [
    {
     "name": "stdout",
     "output_type": "stream",
     "text": [
      "   Year LocationAbbr    LocationDesc GeographicLevel DataSource  \\\n",
      "0  2014           AK  Aleutians East          County       NVSS   \n",
      "1  2014           AK  Aleutians West          County       NVSS   \n",
      "2  2014           AK       Anchorage          County       NVSS   \n",
      "3  2014           AK          Bethel          County       NVSS   \n",
      "4  2014           AK     Bristol Bay          County       NVSS   \n",
      "\n",
      "                     Class                    Topic  Data_Value  \\\n",
      "0  Cardiovascular Diseases  Heart Disease Mortality       105.3   \n",
      "1  Cardiovascular Diseases  Heart Disease Mortality       211.9   \n",
      "2  Cardiovascular Diseases  Heart Disease Mortality       257.9   \n",
      "3  Cardiovascular Diseases  Heart Disease Mortality       351.6   \n",
      "4  Cardiovascular Diseases  Heart Disease Mortality         NaN   \n",
      "\n",
      "          Data_Value_Unit                                    Data_Value_Type  \\\n",
      "0  per 100,000 population  Age-adjusted, Spatially Smoothed, 3-year Avera...   \n",
      "1  per 100,000 population  Age-adjusted, Spatially Smoothed, 3-year Avera...   \n",
      "2  per 100,000 population  Age-adjusted, Spatially Smoothed, 3-year Avera...   \n",
      "3  per 100,000 population  Age-adjusted, Spatially Smoothed, 3-year Avera...   \n",
      "4  per 100,000 population  Age-adjusted, Spatially Smoothed, 3-year Avera...   \n",
      "\n",
      "  Data_Value_Footnote_Symbol Data_Value_Footnote StratificationCategory1  \\\n",
      "0                        NaN                 NaN                  Gender   \n",
      "1                        NaN                 NaN                  Gender   \n",
      "2                        NaN                 NaN                  Gender   \n",
      "3                        NaN                 NaN                  Gender   \n",
      "4                          ~   Insufficient Data                  Gender   \n",
      "\n",
      "  Stratification1 StratificationCategory2 Stratification2 TopicID  LocationID  \\\n",
      "0         Overall          Race/Ethnicity         Overall      T2        2013   \n",
      "1         Overall          Race/Ethnicity         Overall      T2        2016   \n",
      "2         Overall          Race/Ethnicity         Overall      T2        2020   \n",
      "3         Overall          Race/Ethnicity         Overall      T2        2050   \n",
      "4         Overall          Race/Ethnicity         Overall      T2        2060   \n",
      "\n",
      "                 Location 1  \n",
      "0  (55.440626, -161.962562)  \n",
      "1  (52.995403, -170.251538)  \n",
      "2  (61.159049, -149.103905)  \n",
      "3  (60.924483, -159.749655)  \n",
      "4  (58.754192, -156.694709)  \n"
     ]
    },
    {
     "data": {
      "text/html": [
       "<div>\n",
       "<style scoped>\n",
       "    .dataframe tbody tr th:only-of-type {\n",
       "        vertical-align: middle;\n",
       "    }\n",
       "\n",
       "    .dataframe tbody tr th {\n",
       "        vertical-align: top;\n",
       "    }\n",
       "\n",
       "    .dataframe thead th {\n",
       "        text-align: right;\n",
       "    }\n",
       "</style>\n",
       "<table border=\"1\" class=\"dataframe\">\n",
       "  <thead>\n",
       "    <tr style=\"text-align: right;\">\n",
       "      <th></th>\n",
       "      <th>Year</th>\n",
       "      <th>LocationAbbr</th>\n",
       "      <th>LocationDesc</th>\n",
       "      <th>GeographicLevel</th>\n",
       "      <th>DataSource</th>\n",
       "      <th>Class</th>\n",
       "      <th>Topic</th>\n",
       "      <th>Data_Value</th>\n",
       "      <th>Data_Value_Unit</th>\n",
       "      <th>Data_Value_Type</th>\n",
       "      <th>Data_Value_Footnote_Symbol</th>\n",
       "      <th>Data_Value_Footnote</th>\n",
       "      <th>StratificationCategory1</th>\n",
       "      <th>Stratification1</th>\n",
       "      <th>StratificationCategory2</th>\n",
       "      <th>Stratification2</th>\n",
       "      <th>TopicID</th>\n",
       "      <th>LocationID</th>\n",
       "      <th>Location 1</th>\n",
       "    </tr>\n",
       "  </thead>\n",
       "  <tbody>\n",
       "    <tr>\n",
       "      <th>0</th>\n",
       "      <td>2014</td>\n",
       "      <td>AK</td>\n",
       "      <td>Aleutians East</td>\n",
       "      <td>County</td>\n",
       "      <td>NVSS</td>\n",
       "      <td>Cardiovascular Diseases</td>\n",
       "      <td>Heart Disease Mortality</td>\n",
       "      <td>105.3</td>\n",
       "      <td>per 100,000 population</td>\n",
       "      <td>Age-adjusted, Spatially Smoothed, 3-year Avera...</td>\n",
       "      <td>NaN</td>\n",
       "      <td>NaN</td>\n",
       "      <td>Gender</td>\n",
       "      <td>Overall</td>\n",
       "      <td>Race/Ethnicity</td>\n",
       "      <td>Overall</td>\n",
       "      <td>T2</td>\n",
       "      <td>2013</td>\n",
       "      <td>(55.440626, -161.962562)</td>\n",
       "    </tr>\n",
       "    <tr>\n",
       "      <th>1</th>\n",
       "      <td>2014</td>\n",
       "      <td>AK</td>\n",
       "      <td>Aleutians West</td>\n",
       "      <td>County</td>\n",
       "      <td>NVSS</td>\n",
       "      <td>Cardiovascular Diseases</td>\n",
       "      <td>Heart Disease Mortality</td>\n",
       "      <td>211.9</td>\n",
       "      <td>per 100,000 population</td>\n",
       "      <td>Age-adjusted, Spatially Smoothed, 3-year Avera...</td>\n",
       "      <td>NaN</td>\n",
       "      <td>NaN</td>\n",
       "      <td>Gender</td>\n",
       "      <td>Overall</td>\n",
       "      <td>Race/Ethnicity</td>\n",
       "      <td>Overall</td>\n",
       "      <td>T2</td>\n",
       "      <td>2016</td>\n",
       "      <td>(52.995403, -170.251538)</td>\n",
       "    </tr>\n",
       "    <tr>\n",
       "      <th>2</th>\n",
       "      <td>2014</td>\n",
       "      <td>AK</td>\n",
       "      <td>Anchorage</td>\n",
       "      <td>County</td>\n",
       "      <td>NVSS</td>\n",
       "      <td>Cardiovascular Diseases</td>\n",
       "      <td>Heart Disease Mortality</td>\n",
       "      <td>257.9</td>\n",
       "      <td>per 100,000 population</td>\n",
       "      <td>Age-adjusted, Spatially Smoothed, 3-year Avera...</td>\n",
       "      <td>NaN</td>\n",
       "      <td>NaN</td>\n",
       "      <td>Gender</td>\n",
       "      <td>Overall</td>\n",
       "      <td>Race/Ethnicity</td>\n",
       "      <td>Overall</td>\n",
       "      <td>T2</td>\n",
       "      <td>2020</td>\n",
       "      <td>(61.159049, -149.103905)</td>\n",
       "    </tr>\n",
       "    <tr>\n",
       "      <th>3</th>\n",
       "      <td>2014</td>\n",
       "      <td>AK</td>\n",
       "      <td>Bethel</td>\n",
       "      <td>County</td>\n",
       "      <td>NVSS</td>\n",
       "      <td>Cardiovascular Diseases</td>\n",
       "      <td>Heart Disease Mortality</td>\n",
       "      <td>351.6</td>\n",
       "      <td>per 100,000 population</td>\n",
       "      <td>Age-adjusted, Spatially Smoothed, 3-year Avera...</td>\n",
       "      <td>NaN</td>\n",
       "      <td>NaN</td>\n",
       "      <td>Gender</td>\n",
       "      <td>Overall</td>\n",
       "      <td>Race/Ethnicity</td>\n",
       "      <td>Overall</td>\n",
       "      <td>T2</td>\n",
       "      <td>2050</td>\n",
       "      <td>(60.924483, -159.749655)</td>\n",
       "    </tr>\n",
       "    <tr>\n",
       "      <th>4</th>\n",
       "      <td>2014</td>\n",
       "      <td>AK</td>\n",
       "      <td>Bristol Bay</td>\n",
       "      <td>County</td>\n",
       "      <td>NVSS</td>\n",
       "      <td>Cardiovascular Diseases</td>\n",
       "      <td>Heart Disease Mortality</td>\n",
       "      <td>NaN</td>\n",
       "      <td>per 100,000 population</td>\n",
       "      <td>Age-adjusted, Spatially Smoothed, 3-year Avera...</td>\n",
       "      <td>~</td>\n",
       "      <td>Insufficient Data</td>\n",
       "      <td>Gender</td>\n",
       "      <td>Overall</td>\n",
       "      <td>Race/Ethnicity</td>\n",
       "      <td>Overall</td>\n",
       "      <td>T2</td>\n",
       "      <td>2060</td>\n",
       "      <td>(58.754192, -156.694709)</td>\n",
       "    </tr>\n",
       "    <tr>\n",
       "      <th>...</th>\n",
       "      <td>...</td>\n",
       "      <td>...</td>\n",
       "      <td>...</td>\n",
       "      <td>...</td>\n",
       "      <td>...</td>\n",
       "      <td>...</td>\n",
       "      <td>...</td>\n",
       "      <td>...</td>\n",
       "      <td>...</td>\n",
       "      <td>...</td>\n",
       "      <td>...</td>\n",
       "      <td>...</td>\n",
       "      <td>...</td>\n",
       "      <td>...</td>\n",
       "      <td>...</td>\n",
       "      <td>...</td>\n",
       "      <td>...</td>\n",
       "      <td>...</td>\n",
       "      <td>...</td>\n",
       "    </tr>\n",
       "    <tr>\n",
       "      <th>59071</th>\n",
       "      <td>2014</td>\n",
       "      <td>TX</td>\n",
       "      <td>Lubbock County</td>\n",
       "      <td>County</td>\n",
       "      <td>NVSS</td>\n",
       "      <td>Cardiovascular Diseases</td>\n",
       "      <td>Heart Disease Mortality</td>\n",
       "      <td>NaN</td>\n",
       "      <td>per 100,000 population</td>\n",
       "      <td>Age-adjusted, Spatially Smoothed, 3-year Avera...</td>\n",
       "      <td>~</td>\n",
       "      <td>Insufficient Data</td>\n",
       "      <td>Gender</td>\n",
       "      <td>Male</td>\n",
       "      <td>Race/Ethnicity</td>\n",
       "      <td>Asian and Pacific Islander</td>\n",
       "      <td>T2</td>\n",
       "      <td>48303</td>\n",
       "      <td>(33.613697, -101.820878)</td>\n",
       "    </tr>\n",
       "    <tr>\n",
       "      <th>59072</th>\n",
       "      <td>2014</td>\n",
       "      <td>TX</td>\n",
       "      <td>Mitchell County</td>\n",
       "      <td>County</td>\n",
       "      <td>NVSS</td>\n",
       "      <td>Cardiovascular Diseases</td>\n",
       "      <td>Heart Disease Mortality</td>\n",
       "      <td>NaN</td>\n",
       "      <td>per 100,000 population</td>\n",
       "      <td>Age-adjusted, Spatially Smoothed, 3-year Avera...</td>\n",
       "      <td>~</td>\n",
       "      <td>Insufficient Data</td>\n",
       "      <td>Gender</td>\n",
       "      <td>Male</td>\n",
       "      <td>Race/Ethnicity</td>\n",
       "      <td>Black</td>\n",
       "      <td>T2</td>\n",
       "      <td>48335</td>\n",
       "      <td>(32.306972, -100.919542)</td>\n",
       "    </tr>\n",
       "    <tr>\n",
       "      <th>59073</th>\n",
       "      <td>2014</td>\n",
       "      <td>IA</td>\n",
       "      <td>Winnebago County</td>\n",
       "      <td>County</td>\n",
       "      <td>NVSS</td>\n",
       "      <td>Cardiovascular Diseases</td>\n",
       "      <td>Heart Disease Mortality</td>\n",
       "      <td>NaN</td>\n",
       "      <td>per 100,000 population</td>\n",
       "      <td>Age-adjusted, Spatially Smoothed, 3-year Avera...</td>\n",
       "      <td>~</td>\n",
       "      <td>Insufficient Data</td>\n",
       "      <td>Gender</td>\n",
       "      <td>Female</td>\n",
       "      <td>Race/Ethnicity</td>\n",
       "      <td>Asian and Pacific Islander</td>\n",
       "      <td>T2</td>\n",
       "      <td>19189</td>\n",
       "      <td>(43.375754, -93.73907)</td>\n",
       "    </tr>\n",
       "    <tr>\n",
       "      <th>59074</th>\n",
       "      <td>2014</td>\n",
       "      <td>WV</td>\n",
       "      <td>Lewis County</td>\n",
       "      <td>County</td>\n",
       "      <td>NVSS</td>\n",
       "      <td>Cardiovascular Diseases</td>\n",
       "      <td>Heart Disease Mortality</td>\n",
       "      <td>NaN</td>\n",
       "      <td>per 100,000 population</td>\n",
       "      <td>Age-adjusted, Spatially Smoothed, 3-year Avera...</td>\n",
       "      <td>~</td>\n",
       "      <td>Insufficient Data</td>\n",
       "      <td>Gender</td>\n",
       "      <td>Female</td>\n",
       "      <td>Race/Ethnicity</td>\n",
       "      <td>Asian and Pacific Islander</td>\n",
       "      <td>T2</td>\n",
       "      <td>54041</td>\n",
       "      <td>(38.995666, -80.505332)</td>\n",
       "    </tr>\n",
       "    <tr>\n",
       "      <th>59075</th>\n",
       "      <td>2014</td>\n",
       "      <td>KS</td>\n",
       "      <td>Republic County</td>\n",
       "      <td>County</td>\n",
       "      <td>NVSS</td>\n",
       "      <td>Cardiovascular Diseases</td>\n",
       "      <td>Heart Disease Mortality</td>\n",
       "      <td>NaN</td>\n",
       "      <td>per 100,000 population</td>\n",
       "      <td>Age-adjusted, Spatially Smoothed, 3-year Avera...</td>\n",
       "      <td>~</td>\n",
       "      <td>Insufficient Data</td>\n",
       "      <td>Gender</td>\n",
       "      <td>Female</td>\n",
       "      <td>Race/Ethnicity</td>\n",
       "      <td>Asian and Pacific Islander</td>\n",
       "      <td>T2</td>\n",
       "      <td>20157</td>\n",
       "      <td>(39.82459, -97.646162)</td>\n",
       "    </tr>\n",
       "  </tbody>\n",
       "</table>\n",
       "<p>59076 rows × 19 columns</p>\n",
       "</div>"
      ],
      "text/plain": [
       "       Year LocationAbbr      LocationDesc GeographicLevel DataSource  \\\n",
       "0      2014           AK    Aleutians East          County       NVSS   \n",
       "1      2014           AK    Aleutians West          County       NVSS   \n",
       "2      2014           AK         Anchorage          County       NVSS   \n",
       "3      2014           AK            Bethel          County       NVSS   \n",
       "4      2014           AK       Bristol Bay          County       NVSS   \n",
       "...     ...          ...               ...             ...        ...   \n",
       "59071  2014           TX    Lubbock County          County       NVSS   \n",
       "59072  2014           TX   Mitchell County          County       NVSS   \n",
       "59073  2014           IA  Winnebago County          County       NVSS   \n",
       "59074  2014           WV      Lewis County          County       NVSS   \n",
       "59075  2014           KS   Republic County          County       NVSS   \n",
       "\n",
       "                         Class                    Topic  Data_Value  \\\n",
       "0      Cardiovascular Diseases  Heart Disease Mortality       105.3   \n",
       "1      Cardiovascular Diseases  Heart Disease Mortality       211.9   \n",
       "2      Cardiovascular Diseases  Heart Disease Mortality       257.9   \n",
       "3      Cardiovascular Diseases  Heart Disease Mortality       351.6   \n",
       "4      Cardiovascular Diseases  Heart Disease Mortality         NaN   \n",
       "...                        ...                      ...         ...   \n",
       "59071  Cardiovascular Diseases  Heart Disease Mortality         NaN   \n",
       "59072  Cardiovascular Diseases  Heart Disease Mortality         NaN   \n",
       "59073  Cardiovascular Diseases  Heart Disease Mortality         NaN   \n",
       "59074  Cardiovascular Diseases  Heart Disease Mortality         NaN   \n",
       "59075  Cardiovascular Diseases  Heart Disease Mortality         NaN   \n",
       "\n",
       "              Data_Value_Unit  \\\n",
       "0      per 100,000 population   \n",
       "1      per 100,000 population   \n",
       "2      per 100,000 population   \n",
       "3      per 100,000 population   \n",
       "4      per 100,000 population   \n",
       "...                       ...   \n",
       "59071  per 100,000 population   \n",
       "59072  per 100,000 population   \n",
       "59073  per 100,000 population   \n",
       "59074  per 100,000 population   \n",
       "59075  per 100,000 population   \n",
       "\n",
       "                                         Data_Value_Type  \\\n",
       "0      Age-adjusted, Spatially Smoothed, 3-year Avera...   \n",
       "1      Age-adjusted, Spatially Smoothed, 3-year Avera...   \n",
       "2      Age-adjusted, Spatially Smoothed, 3-year Avera...   \n",
       "3      Age-adjusted, Spatially Smoothed, 3-year Avera...   \n",
       "4      Age-adjusted, Spatially Smoothed, 3-year Avera...   \n",
       "...                                                  ...   \n",
       "59071  Age-adjusted, Spatially Smoothed, 3-year Avera...   \n",
       "59072  Age-adjusted, Spatially Smoothed, 3-year Avera...   \n",
       "59073  Age-adjusted, Spatially Smoothed, 3-year Avera...   \n",
       "59074  Age-adjusted, Spatially Smoothed, 3-year Avera...   \n",
       "59075  Age-adjusted, Spatially Smoothed, 3-year Avera...   \n",
       "\n",
       "      Data_Value_Footnote_Symbol Data_Value_Footnote StratificationCategory1  \\\n",
       "0                            NaN                 NaN                  Gender   \n",
       "1                            NaN                 NaN                  Gender   \n",
       "2                            NaN                 NaN                  Gender   \n",
       "3                            NaN                 NaN                  Gender   \n",
       "4                              ~   Insufficient Data                  Gender   \n",
       "...                          ...                 ...                     ...   \n",
       "59071                          ~   Insufficient Data                  Gender   \n",
       "59072                          ~   Insufficient Data                  Gender   \n",
       "59073                          ~   Insufficient Data                  Gender   \n",
       "59074                          ~   Insufficient Data                  Gender   \n",
       "59075                          ~   Insufficient Data                  Gender   \n",
       "\n",
       "      Stratification1 StratificationCategory2             Stratification2  \\\n",
       "0             Overall          Race/Ethnicity                     Overall   \n",
       "1             Overall          Race/Ethnicity                     Overall   \n",
       "2             Overall          Race/Ethnicity                     Overall   \n",
       "3             Overall          Race/Ethnicity                     Overall   \n",
       "4             Overall          Race/Ethnicity                     Overall   \n",
       "...               ...                     ...                         ...   \n",
       "59071            Male          Race/Ethnicity  Asian and Pacific Islander   \n",
       "59072            Male          Race/Ethnicity                       Black   \n",
       "59073          Female          Race/Ethnicity  Asian and Pacific Islander   \n",
       "59074          Female          Race/Ethnicity  Asian and Pacific Islander   \n",
       "59075          Female          Race/Ethnicity  Asian and Pacific Islander   \n",
       "\n",
       "      TopicID  LocationID                Location 1  \n",
       "0          T2        2013  (55.440626, -161.962562)  \n",
       "1          T2        2016  (52.995403, -170.251538)  \n",
       "2          T2        2020  (61.159049, -149.103905)  \n",
       "3          T2        2050  (60.924483, -159.749655)  \n",
       "4          T2        2060  (58.754192, -156.694709)  \n",
       "...       ...         ...                       ...  \n",
       "59071      T2       48303  (33.613697, -101.820878)  \n",
       "59072      T2       48335  (32.306972, -100.919542)  \n",
       "59073      T2       19189    (43.375754, -93.73907)  \n",
       "59074      T2       54041   (38.995666, -80.505332)  \n",
       "59075      T2       20157    (39.82459, -97.646162)  \n",
       "\n",
       "[59076 rows x 19 columns]"
      ]
     },
     "execution_count": 1,
     "metadata": {},
     "output_type": "execute_result"
    }
   ],
   "source": [
    "import pandas as pd\n",
    "\n",
    "url = \"https://data.cdc.gov/api/views/i2vk-mgdh/rows.csv?accessType=DOWNLOAD\"\n",
    "df = pd.read_csv(url)\n",
    "print(df.head())\n",
    "df"
   ]
  },
  {
   "cell_type": "markdown",
   "id": "bdca96a0-fb2d-40b8-afd9-326e18aed6d9",
   "metadata": {},
   "source": [
    "### Printing out a few columns ###"
   ]
  },
  {
   "cell_type": "code",
   "execution_count": 5,
   "id": "be83d66b-9721-42ab-9f80-8d54cf7dabfc",
   "metadata": {
    "tags": []
   },
   "outputs": [
    {
     "data": {
      "text/plain": [
       "(59076, 19)"
      ]
     },
     "execution_count": 5,
     "metadata": {},
     "output_type": "execute_result"
    }
   ],
   "source": [
    "df.shape"
   ]
  },
  {
   "cell_type": "code",
   "execution_count": 6,
   "id": "4971ed58-3227-4d52-99aa-9737fbfee3a2",
   "metadata": {
    "tags": []
   },
   "outputs": [
    {
     "data": {
      "text/html": [
       "<div>\n",
       "<style scoped>\n",
       "    .dataframe tbody tr th:only-of-type {\n",
       "        vertical-align: middle;\n",
       "    }\n",
       "\n",
       "    .dataframe tbody tr th {\n",
       "        vertical-align: top;\n",
       "    }\n",
       "\n",
       "    .dataframe thead th {\n",
       "        text-align: right;\n",
       "    }\n",
       "</style>\n",
       "<table border=\"1\" class=\"dataframe\">\n",
       "  <thead>\n",
       "    <tr style=\"text-align: right;\">\n",
       "      <th></th>\n",
       "      <th>Year</th>\n",
       "      <th>LocationAbbr</th>\n",
       "      <th>LocationDesc</th>\n",
       "      <th>GeographicLevel</th>\n",
       "      <th>DataSource</th>\n",
       "      <th>Class</th>\n",
       "      <th>Topic</th>\n",
       "      <th>Data_Value</th>\n",
       "      <th>Data_Value_Unit</th>\n",
       "      <th>Data_Value_Type</th>\n",
       "      <th>Data_Value_Footnote_Symbol</th>\n",
       "      <th>Data_Value_Footnote</th>\n",
       "      <th>StratificationCategory1</th>\n",
       "      <th>Stratification1</th>\n",
       "      <th>StratificationCategory2</th>\n",
       "      <th>Stratification2</th>\n",
       "      <th>TopicID</th>\n",
       "      <th>LocationID</th>\n",
       "      <th>Location 1</th>\n",
       "    </tr>\n",
       "  </thead>\n",
       "  <tbody>\n",
       "    <tr>\n",
       "      <th>0</th>\n",
       "      <td>2014</td>\n",
       "      <td>AK</td>\n",
       "      <td>Aleutians East</td>\n",
       "      <td>County</td>\n",
       "      <td>NVSS</td>\n",
       "      <td>Cardiovascular Diseases</td>\n",
       "      <td>Heart Disease Mortality</td>\n",
       "      <td>105.3</td>\n",
       "      <td>per 100,000 population</td>\n",
       "      <td>Age-adjusted, Spatially Smoothed, 3-year Avera...</td>\n",
       "      <td>NaN</td>\n",
       "      <td>NaN</td>\n",
       "      <td>Gender</td>\n",
       "      <td>Overall</td>\n",
       "      <td>Race/Ethnicity</td>\n",
       "      <td>Overall</td>\n",
       "      <td>T2</td>\n",
       "      <td>2013</td>\n",
       "      <td>(55.440626, -161.962562)</td>\n",
       "    </tr>\n",
       "    <tr>\n",
       "      <th>1</th>\n",
       "      <td>2014</td>\n",
       "      <td>AK</td>\n",
       "      <td>Aleutians West</td>\n",
       "      <td>County</td>\n",
       "      <td>NVSS</td>\n",
       "      <td>Cardiovascular Diseases</td>\n",
       "      <td>Heart Disease Mortality</td>\n",
       "      <td>211.9</td>\n",
       "      <td>per 100,000 population</td>\n",
       "      <td>Age-adjusted, Spatially Smoothed, 3-year Avera...</td>\n",
       "      <td>NaN</td>\n",
       "      <td>NaN</td>\n",
       "      <td>Gender</td>\n",
       "      <td>Overall</td>\n",
       "      <td>Race/Ethnicity</td>\n",
       "      <td>Overall</td>\n",
       "      <td>T2</td>\n",
       "      <td>2016</td>\n",
       "      <td>(52.995403, -170.251538)</td>\n",
       "    </tr>\n",
       "    <tr>\n",
       "      <th>2</th>\n",
       "      <td>2014</td>\n",
       "      <td>AK</td>\n",
       "      <td>Anchorage</td>\n",
       "      <td>County</td>\n",
       "      <td>NVSS</td>\n",
       "      <td>Cardiovascular Diseases</td>\n",
       "      <td>Heart Disease Mortality</td>\n",
       "      <td>257.9</td>\n",
       "      <td>per 100,000 population</td>\n",
       "      <td>Age-adjusted, Spatially Smoothed, 3-year Avera...</td>\n",
       "      <td>NaN</td>\n",
       "      <td>NaN</td>\n",
       "      <td>Gender</td>\n",
       "      <td>Overall</td>\n",
       "      <td>Race/Ethnicity</td>\n",
       "      <td>Overall</td>\n",
       "      <td>T2</td>\n",
       "      <td>2020</td>\n",
       "      <td>(61.159049, -149.103905)</td>\n",
       "    </tr>\n",
       "    <tr>\n",
       "      <th>3</th>\n",
       "      <td>2014</td>\n",
       "      <td>AK</td>\n",
       "      <td>Bethel</td>\n",
       "      <td>County</td>\n",
       "      <td>NVSS</td>\n",
       "      <td>Cardiovascular Diseases</td>\n",
       "      <td>Heart Disease Mortality</td>\n",
       "      <td>351.6</td>\n",
       "      <td>per 100,000 population</td>\n",
       "      <td>Age-adjusted, Spatially Smoothed, 3-year Avera...</td>\n",
       "      <td>NaN</td>\n",
       "      <td>NaN</td>\n",
       "      <td>Gender</td>\n",
       "      <td>Overall</td>\n",
       "      <td>Race/Ethnicity</td>\n",
       "      <td>Overall</td>\n",
       "      <td>T2</td>\n",
       "      <td>2050</td>\n",
       "      <td>(60.924483, -159.749655)</td>\n",
       "    </tr>\n",
       "    <tr>\n",
       "      <th>4</th>\n",
       "      <td>2014</td>\n",
       "      <td>AK</td>\n",
       "      <td>Bristol Bay</td>\n",
       "      <td>County</td>\n",
       "      <td>NVSS</td>\n",
       "      <td>Cardiovascular Diseases</td>\n",
       "      <td>Heart Disease Mortality</td>\n",
       "      <td>NaN</td>\n",
       "      <td>per 100,000 population</td>\n",
       "      <td>Age-adjusted, Spatially Smoothed, 3-year Avera...</td>\n",
       "      <td>~</td>\n",
       "      <td>Insufficient Data</td>\n",
       "      <td>Gender</td>\n",
       "      <td>Overall</td>\n",
       "      <td>Race/Ethnicity</td>\n",
       "      <td>Overall</td>\n",
       "      <td>T2</td>\n",
       "      <td>2060</td>\n",
       "      <td>(58.754192, -156.694709)</td>\n",
       "    </tr>\n",
       "  </tbody>\n",
       "</table>\n",
       "</div>"
      ],
      "text/plain": [
       "   Year LocationAbbr    LocationDesc GeographicLevel DataSource  \\\n",
       "0  2014           AK  Aleutians East          County       NVSS   \n",
       "1  2014           AK  Aleutians West          County       NVSS   \n",
       "2  2014           AK       Anchorage          County       NVSS   \n",
       "3  2014           AK          Bethel          County       NVSS   \n",
       "4  2014           AK     Bristol Bay          County       NVSS   \n",
       "\n",
       "                     Class                    Topic  Data_Value  \\\n",
       "0  Cardiovascular Diseases  Heart Disease Mortality       105.3   \n",
       "1  Cardiovascular Diseases  Heart Disease Mortality       211.9   \n",
       "2  Cardiovascular Diseases  Heart Disease Mortality       257.9   \n",
       "3  Cardiovascular Diseases  Heart Disease Mortality       351.6   \n",
       "4  Cardiovascular Diseases  Heart Disease Mortality         NaN   \n",
       "\n",
       "          Data_Value_Unit                                    Data_Value_Type  \\\n",
       "0  per 100,000 population  Age-adjusted, Spatially Smoothed, 3-year Avera...   \n",
       "1  per 100,000 population  Age-adjusted, Spatially Smoothed, 3-year Avera...   \n",
       "2  per 100,000 population  Age-adjusted, Spatially Smoothed, 3-year Avera...   \n",
       "3  per 100,000 population  Age-adjusted, Spatially Smoothed, 3-year Avera...   \n",
       "4  per 100,000 population  Age-adjusted, Spatially Smoothed, 3-year Avera...   \n",
       "\n",
       "  Data_Value_Footnote_Symbol Data_Value_Footnote StratificationCategory1  \\\n",
       "0                        NaN                 NaN                  Gender   \n",
       "1                        NaN                 NaN                  Gender   \n",
       "2                        NaN                 NaN                  Gender   \n",
       "3                        NaN                 NaN                  Gender   \n",
       "4                          ~   Insufficient Data                  Gender   \n",
       "\n",
       "  Stratification1 StratificationCategory2 Stratification2 TopicID  LocationID  \\\n",
       "0         Overall          Race/Ethnicity         Overall      T2        2013   \n",
       "1         Overall          Race/Ethnicity         Overall      T2        2016   \n",
       "2         Overall          Race/Ethnicity         Overall      T2        2020   \n",
       "3         Overall          Race/Ethnicity         Overall      T2        2050   \n",
       "4         Overall          Race/Ethnicity         Overall      T2        2060   \n",
       "\n",
       "                 Location 1  \n",
       "0  (55.440626, -161.962562)  \n",
       "1  (52.995403, -170.251538)  \n",
       "2  (61.159049, -149.103905)  \n",
       "3  (60.924483, -159.749655)  \n",
       "4  (58.754192, -156.694709)  "
      ]
     },
     "execution_count": 6,
     "metadata": {},
     "output_type": "execute_result"
    }
   ],
   "source": [
    "df = pd.read_csv(url)\n",
    "\n",
    "df.head(5)"
   ]
  },
  {
   "cell_type": "code",
   "execution_count": 7,
   "id": "c9402c1c-69a0-47e7-bcab-2c332c84e35a",
   "metadata": {
    "tags": []
   },
   "outputs": [
    {
     "data": {
      "text/html": [
       "<div>\n",
       "<style scoped>\n",
       "    .dataframe tbody tr th:only-of-type {\n",
       "        vertical-align: middle;\n",
       "    }\n",
       "\n",
       "    .dataframe tbody tr th {\n",
       "        vertical-align: top;\n",
       "    }\n",
       "\n",
       "    .dataframe thead th {\n",
       "        text-align: right;\n",
       "    }\n",
       "</style>\n",
       "<table border=\"1\" class=\"dataframe\">\n",
       "  <thead>\n",
       "    <tr style=\"text-align: right;\">\n",
       "      <th></th>\n",
       "      <th>Year</th>\n",
       "      <th>LocationAbbr</th>\n",
       "      <th>LocationDesc</th>\n",
       "      <th>GeographicLevel</th>\n",
       "      <th>DataSource</th>\n",
       "      <th>Class</th>\n",
       "      <th>Topic</th>\n",
       "      <th>Data_Value</th>\n",
       "      <th>Data_Value_Unit</th>\n",
       "      <th>Data_Value_Type</th>\n",
       "      <th>Data_Value_Footnote_Symbol</th>\n",
       "      <th>Data_Value_Footnote</th>\n",
       "      <th>StratificationCategory1</th>\n",
       "      <th>Stratification1</th>\n",
       "      <th>StratificationCategory2</th>\n",
       "      <th>Stratification2</th>\n",
       "      <th>TopicID</th>\n",
       "      <th>LocationID</th>\n",
       "      <th>Location 1</th>\n",
       "    </tr>\n",
       "  </thead>\n",
       "  <tbody>\n",
       "    <tr>\n",
       "      <th>2327</th>\n",
       "      <td>2014</td>\n",
       "      <td>AR</td>\n",
       "      <td>Woodruff County</td>\n",
       "      <td>County</td>\n",
       "      <td>NVSS</td>\n",
       "      <td>Cardiovascular Diseases</td>\n",
       "      <td>Heart Disease Mortality</td>\n",
       "      <td>NaN</td>\n",
       "      <td>per 100,000 population</td>\n",
       "      <td>Age-adjusted, Spatially Smoothed, 3-year Avera...</td>\n",
       "      <td>~</td>\n",
       "      <td>Insufficient Data</td>\n",
       "      <td>Gender</td>\n",
       "      <td>Female</td>\n",
       "      <td>Race/Ethnicity</td>\n",
       "      <td>Hispanic</td>\n",
       "      <td>T2</td>\n",
       "      <td>5147</td>\n",
       "      <td>(35.189001, -91.23847)</td>\n",
       "    </tr>\n",
       "    <tr>\n",
       "      <th>49757</th>\n",
       "      <td>2014</td>\n",
       "      <td>WV</td>\n",
       "      <td>Lincoln County</td>\n",
       "      <td>County</td>\n",
       "      <td>NVSS</td>\n",
       "      <td>Cardiovascular Diseases</td>\n",
       "      <td>Heart Disease Mortality</td>\n",
       "      <td>485.8</td>\n",
       "      <td>per 100,000 population</td>\n",
       "      <td>Age-adjusted, Spatially Smoothed, 3-year Avera...</td>\n",
       "      <td>NaN</td>\n",
       "      <td>NaN</td>\n",
       "      <td>Gender</td>\n",
       "      <td>Male</td>\n",
       "      <td>Race/Ethnicity</td>\n",
       "      <td>Black</td>\n",
       "      <td>T2</td>\n",
       "      <td>54043</td>\n",
       "      <td>(38.175474, -82.067652)</td>\n",
       "    </tr>\n",
       "    <tr>\n",
       "      <th>50373</th>\n",
       "      <td>2014</td>\n",
       "      <td>WY</td>\n",
       "      <td>Campbell County</td>\n",
       "      <td>County</td>\n",
       "      <td>NVSS</td>\n",
       "      <td>Cardiovascular Diseases</td>\n",
       "      <td>Heart Disease Mortality</td>\n",
       "      <td>NaN</td>\n",
       "      <td>per 100,000 population</td>\n",
       "      <td>Age-adjusted, Spatially Smoothed, 3-year Avera...</td>\n",
       "      <td>~</td>\n",
       "      <td>Insufficient Data</td>\n",
       "      <td>Gender</td>\n",
       "      <td>Overall</td>\n",
       "      <td>Race/Ethnicity</td>\n",
       "      <td>Black</td>\n",
       "      <td>T2</td>\n",
       "      <td>56005</td>\n",
       "      <td>(44.248013, -105.549392)</td>\n",
       "    </tr>\n",
       "    <tr>\n",
       "      <th>35122</th>\n",
       "      <td>2014</td>\n",
       "      <td>OR</td>\n",
       "      <td>Wallowa County</td>\n",
       "      <td>County</td>\n",
       "      <td>NVSS</td>\n",
       "      <td>Cardiovascular Diseases</td>\n",
       "      <td>Heart Disease Mortality</td>\n",
       "      <td>NaN</td>\n",
       "      <td>per 100,000 population</td>\n",
       "      <td>Age-adjusted, Spatially Smoothed, 3-year Avera...</td>\n",
       "      <td>~</td>\n",
       "      <td>Insufficient Data</td>\n",
       "      <td>Gender</td>\n",
       "      <td>Female</td>\n",
       "      <td>Race/Ethnicity</td>\n",
       "      <td>Hispanic</td>\n",
       "      <td>T2</td>\n",
       "      <td>41063</td>\n",
       "      <td>(45.5779, -117.183234)</td>\n",
       "    </tr>\n",
       "    <tr>\n",
       "      <th>52022</th>\n",
       "      <td>2014</td>\n",
       "      <td>OH</td>\n",
       "      <td>Delaware County</td>\n",
       "      <td>County</td>\n",
       "      <td>NVSS</td>\n",
       "      <td>Cardiovascular Diseases</td>\n",
       "      <td>Heart Disease Mortality</td>\n",
       "      <td>119.3</td>\n",
       "      <td>per 100,000 population</td>\n",
       "      <td>Age-adjusted, Spatially Smoothed, 3-year Avera...</td>\n",
       "      <td>NaN</td>\n",
       "      <td>NaN</td>\n",
       "      <td>Gender</td>\n",
       "      <td>Female</td>\n",
       "      <td>Race/Ethnicity</td>\n",
       "      <td>Asian and Pacific Islander</td>\n",
       "      <td>T2</td>\n",
       "      <td>39041</td>\n",
       "      <td>(40.27916, -83.002617)</td>\n",
       "    </tr>\n",
       "  </tbody>\n",
       "</table>\n",
       "</div>"
      ],
      "text/plain": [
       "       Year LocationAbbr     LocationDesc GeographicLevel DataSource  \\\n",
       "2327   2014           AR  Woodruff County          County       NVSS   \n",
       "49757  2014           WV   Lincoln County          County       NVSS   \n",
       "50373  2014           WY  Campbell County          County       NVSS   \n",
       "35122  2014           OR   Wallowa County          County       NVSS   \n",
       "52022  2014           OH  Delaware County          County       NVSS   \n",
       "\n",
       "                         Class                    Topic  Data_Value  \\\n",
       "2327   Cardiovascular Diseases  Heart Disease Mortality         NaN   \n",
       "49757  Cardiovascular Diseases  Heart Disease Mortality       485.8   \n",
       "50373  Cardiovascular Diseases  Heart Disease Mortality         NaN   \n",
       "35122  Cardiovascular Diseases  Heart Disease Mortality         NaN   \n",
       "52022  Cardiovascular Diseases  Heart Disease Mortality       119.3   \n",
       "\n",
       "              Data_Value_Unit  \\\n",
       "2327   per 100,000 population   \n",
       "49757  per 100,000 population   \n",
       "50373  per 100,000 population   \n",
       "35122  per 100,000 population   \n",
       "52022  per 100,000 population   \n",
       "\n",
       "                                         Data_Value_Type  \\\n",
       "2327   Age-adjusted, Spatially Smoothed, 3-year Avera...   \n",
       "49757  Age-adjusted, Spatially Smoothed, 3-year Avera...   \n",
       "50373  Age-adjusted, Spatially Smoothed, 3-year Avera...   \n",
       "35122  Age-adjusted, Spatially Smoothed, 3-year Avera...   \n",
       "52022  Age-adjusted, Spatially Smoothed, 3-year Avera...   \n",
       "\n",
       "      Data_Value_Footnote_Symbol Data_Value_Footnote StratificationCategory1  \\\n",
       "2327                           ~   Insufficient Data                  Gender   \n",
       "49757                        NaN                 NaN                  Gender   \n",
       "50373                          ~   Insufficient Data                  Gender   \n",
       "35122                          ~   Insufficient Data                  Gender   \n",
       "52022                        NaN                 NaN                  Gender   \n",
       "\n",
       "      Stratification1 StratificationCategory2             Stratification2  \\\n",
       "2327           Female          Race/Ethnicity                    Hispanic   \n",
       "49757            Male          Race/Ethnicity                       Black   \n",
       "50373         Overall          Race/Ethnicity                       Black   \n",
       "35122          Female          Race/Ethnicity                    Hispanic   \n",
       "52022          Female          Race/Ethnicity  Asian and Pacific Islander   \n",
       "\n",
       "      TopicID  LocationID                Location 1  \n",
       "2327       T2        5147    (35.189001, -91.23847)  \n",
       "49757      T2       54043   (38.175474, -82.067652)  \n",
       "50373      T2       56005  (44.248013, -105.549392)  \n",
       "35122      T2       41063    (45.5779, -117.183234)  \n",
       "52022      T2       39041    (40.27916, -83.002617)  "
      ]
     },
     "execution_count": 7,
     "metadata": {},
     "output_type": "execute_result"
    }
   ],
   "source": [
    "df.sample(5)"
   ]
  },
  {
   "cell_type": "markdown",
   "id": "70b60832-04e2-4c4a-b654-e2d90871a03c",
   "metadata": {},
   "source": [
    "### Description ###"
   ]
  },
  {
   "cell_type": "code",
   "execution_count": 8,
   "id": "70656ab0-6a2c-4409-bf44-ec1059d41e18",
   "metadata": {
    "tags": []
   },
   "outputs": [
    {
     "data": {
      "text/html": [
       "<div>\n",
       "<style scoped>\n",
       "    .dataframe tbody tr th:only-of-type {\n",
       "        vertical-align: middle;\n",
       "    }\n",
       "\n",
       "    .dataframe tbody tr th {\n",
       "        vertical-align: top;\n",
       "    }\n",
       "\n",
       "    .dataframe thead th {\n",
       "        text-align: right;\n",
       "    }\n",
       "</style>\n",
       "<table border=\"1\" class=\"dataframe\">\n",
       "  <thead>\n",
       "    <tr style=\"text-align: right;\">\n",
       "      <th></th>\n",
       "      <th>Year</th>\n",
       "      <th>Data_Value</th>\n",
       "      <th>LocationID</th>\n",
       "    </tr>\n",
       "  </thead>\n",
       "  <tbody>\n",
       "    <tr>\n",
       "      <th>count</th>\n",
       "      <td>59076.0</td>\n",
       "      <td>32149.000000</td>\n",
       "      <td>59076.000000</td>\n",
       "    </tr>\n",
       "    <tr>\n",
       "      <th>mean</th>\n",
       "      <td>2014.0</td>\n",
       "      <td>349.306775</td>\n",
       "      <td>30946.267215</td>\n",
       "    </tr>\n",
       "    <tr>\n",
       "      <th>std</th>\n",
       "      <td>0.0</td>\n",
       "      <td>140.549773</td>\n",
       "      <td>16728.893538</td>\n",
       "    </tr>\n",
       "    <tr>\n",
       "      <th>min</th>\n",
       "      <td>2014.0</td>\n",
       "      <td>6.000000</td>\n",
       "      <td>0.000000</td>\n",
       "    </tr>\n",
       "    <tr>\n",
       "      <th>25%</th>\n",
       "      <td>2014.0</td>\n",
       "      <td>253.300000</td>\n",
       "      <td>18137.000000</td>\n",
       "    </tr>\n",
       "    <tr>\n",
       "      <th>50%</th>\n",
       "      <td>2014.0</td>\n",
       "      <td>340.000000</td>\n",
       "      <td>29208.000000</td>\n",
       "    </tr>\n",
       "    <tr>\n",
       "      <th>75%</th>\n",
       "      <td>2014.0</td>\n",
       "      <td>433.800000</td>\n",
       "      <td>46091.000000</td>\n",
       "    </tr>\n",
       "    <tr>\n",
       "      <th>max</th>\n",
       "      <td>2014.0</td>\n",
       "      <td>3000.900000</td>\n",
       "      <td>78030.000000</td>\n",
       "    </tr>\n",
       "  </tbody>\n",
       "</table>\n",
       "</div>"
      ],
      "text/plain": [
       "          Year    Data_Value    LocationID\n",
       "count  59076.0  32149.000000  59076.000000\n",
       "mean    2014.0    349.306775  30946.267215\n",
       "std        0.0    140.549773  16728.893538\n",
       "min     2014.0      6.000000      0.000000\n",
       "25%     2014.0    253.300000  18137.000000\n",
       "50%     2014.0    340.000000  29208.000000\n",
       "75%     2014.0    433.800000  46091.000000\n",
       "max     2014.0   3000.900000  78030.000000"
      ]
     },
     "execution_count": 8,
     "metadata": {},
     "output_type": "execute_result"
    }
   ],
   "source": [
    "df.describe()"
   ]
  },
  {
   "cell_type": "markdown",
   "id": "5695b59c-34c5-49ab-98a7-3b16c28d1eda",
   "metadata": {},
   "source": [
    "## Initial Data Analysis ##\n",
    "## Count the instances of disease and no disease. ##"
   ]
  },
  {
   "cell_type": "code",
   "execution_count": 9,
   "id": "57250f16-b0ec-4e47-a494-f184a2720ce0",
   "metadata": {
    "tags": []
   },
   "outputs": [
    {
     "name": "stdout",
     "output_type": "stream",
     "text": [
      "Data_Value_Type\n",
      "Age-adjusted, Spatially Smoothed, 3-year Average Rate    58050\n",
      "Age-adjusted, 3-year Average Rate                         1026\n",
      "Name: count, dtype: int64\n"
     ]
    }
   ],
   "source": [
    "value_counts = df['Data_Value_Type'].value_counts()\n",
    "print(value_counts)"
   ]
  },
  {
   "cell_type": "code",
   "execution_count": 10,
   "id": "30fe81dc-7e57-46f4-b32e-fde312891719",
   "metadata": {
    "tags": []
   },
   "outputs": [
    {
     "name": "stdout",
     "output_type": "stream",
     "text": [
      "Data_Value\n",
      "335.7    21\n",
      "349.2    21\n",
      "285.6    20\n",
      "343.5    19\n",
      "361.1    19\n",
      "         ..\n",
      "906.8     1\n",
      "842.7     1\n",
      "883.6     1\n",
      "933.8     1\n",
      "42.4      1\n",
      "Name: count, Length: 6147, dtype: int64\n"
     ]
    }
   ],
   "source": [
    "value_counts = df['Data_Value'].value_counts()\n",
    "print(value_counts)"
   ]
  },
  {
   "cell_type": "code",
   "execution_count": 11,
   "id": "41a93a70-4d8a-41fa-805c-fcd7eef98a21",
   "metadata": {
    "tags": []
   },
   "outputs": [],
   "source": [
    "disease = len(df[df['Data_Value'] == 1])\n",
    "no_disease = len(df[df['Data_Value']== 0])"
   ]
  },
  {
   "cell_type": "markdown",
   "id": "0bda1672-6875-451b-b780-b69267e3a744",
   "metadata": {},
   "source": [
    "## Load and Inspect Data ##"
   ]
  },
  {
   "cell_type": "code",
   "execution_count": 12,
   "id": "0e96082f-aca6-4020-a0f3-82f3ed4f4a54",
   "metadata": {
    "tags": []
   },
   "outputs": [
    {
     "name": "stdout",
     "output_type": "stream",
     "text": [
      "       Year LocationAbbr      LocationDesc GeographicLevel DataSource  \\\n",
      "59071  2014           TX    Lubbock County          County       NVSS   \n",
      "59072  2014           TX   Mitchell County          County       NVSS   \n",
      "59073  2014           IA  Winnebago County          County       NVSS   \n",
      "59074  2014           WV      Lewis County          County       NVSS   \n",
      "59075  2014           KS   Republic County          County       NVSS   \n",
      "\n",
      "                         Class                    Topic  Data_Value  \\\n",
      "59071  Cardiovascular Diseases  Heart Disease Mortality         NaN   \n",
      "59072  Cardiovascular Diseases  Heart Disease Mortality         NaN   \n",
      "59073  Cardiovascular Diseases  Heart Disease Mortality         NaN   \n",
      "59074  Cardiovascular Diseases  Heart Disease Mortality         NaN   \n",
      "59075  Cardiovascular Diseases  Heart Disease Mortality         NaN   \n",
      "\n",
      "              Data_Value_Unit  \\\n",
      "59071  per 100,000 population   \n",
      "59072  per 100,000 population   \n",
      "59073  per 100,000 population   \n",
      "59074  per 100,000 population   \n",
      "59075  per 100,000 population   \n",
      "\n",
      "                                         Data_Value_Type  \\\n",
      "59071  Age-adjusted, Spatially Smoothed, 3-year Avera...   \n",
      "59072  Age-adjusted, Spatially Smoothed, 3-year Avera...   \n",
      "59073  Age-adjusted, Spatially Smoothed, 3-year Avera...   \n",
      "59074  Age-adjusted, Spatially Smoothed, 3-year Avera...   \n",
      "59075  Age-adjusted, Spatially Smoothed, 3-year Avera...   \n",
      "\n",
      "      Data_Value_Footnote_Symbol Data_Value_Footnote StratificationCategory1  \\\n",
      "59071                          ~   Insufficient Data                  Gender   \n",
      "59072                          ~   Insufficient Data                  Gender   \n",
      "59073                          ~   Insufficient Data                  Gender   \n",
      "59074                          ~   Insufficient Data                  Gender   \n",
      "59075                          ~   Insufficient Data                  Gender   \n",
      "\n",
      "      Stratification1 StratificationCategory2             Stratification2  \\\n",
      "59071            Male          Race/Ethnicity  Asian and Pacific Islander   \n",
      "59072            Male          Race/Ethnicity                       Black   \n",
      "59073          Female          Race/Ethnicity  Asian and Pacific Islander   \n",
      "59074          Female          Race/Ethnicity  Asian and Pacific Islander   \n",
      "59075          Female          Race/Ethnicity  Asian and Pacific Islander   \n",
      "\n",
      "      TopicID  LocationID                Location 1  \n",
      "59071      T2       48303  (33.613697, -101.820878)  \n",
      "59072      T2       48335  (32.306972, -100.919542)  \n",
      "59073      T2       19189    (43.375754, -93.73907)  \n",
      "59074      T2       54041   (38.995666, -80.505332)  \n",
      "59075      T2       20157    (39.82459, -97.646162)  \n"
     ]
    }
   ],
   "source": [
    "print(df.tail())"
   ]
  },
  {
   "cell_type": "code",
   "execution_count": 2,
   "id": "6dc45921-efa8-441c-8fd2-11ea1fc2cdee",
   "metadata": {
    "tags": []
   },
   "outputs": [
    {
     "data": {
      "image/png": "[encoded data removed]",
      "text/plain": [
       "<Figure size 640x480 with 1 Axes>"
      ]
     },
     "metadata": {},
     "output_type": "display_data"
    }
   ],
   "source": [
    "import pandas as pd\n",
    "import numpy as np\n",
    "import matplotlib.pyplot as plt\n",
    "\n",
    "# Load the dataset\n",
    "url = \"https://data.cdc.gov/api/views/i2vk-mgdh/rows.csv?accessType=DOWNLOAD\"\n",
    "data = pd.read_csv(url)\n",
    "\n",
    "# Set the threshold for classifying heart disease\n",
    "threshold = 100  \n",
    "\n",
    "if 'Data_Value' in data.columns:\n",
    "    data['target'] = (data['Data_Value'] >= threshold).astype(int)\n",
    "else:\n",
    "    print(\"Column 'Data_Value' not found in the dataset. Please check the column name.\")\n",
    "    # Optionally, you can list all columns to debug\n",
    "    print(\"Available columns:\", data.columns)\n",
    "\n",
    "# Calculate the number of cases and non-cases\n",
    "disease = len(data[data['target'] == 1])\n",
    "no_disease = len(data[data['target'] == 0])\n",
    "\n",
    "# Plotting\n",
    "plt.rcdefaults()\n",
    "fig, ax = plt.subplots()\n",
    "y_labels = ('Heart Disease', 'No Disease')\n",
    "y_pos = np.arange(len(y_labels))\n",
    "x_counts = (disease, no_disease)\n",
    "\n",
    "# Create horizontal bar plot\n",
    "ax.barh(y_pos, x_counts, align='center', color=['red', 'blue'])\n",
    "ax.set_yticks(y_pos)\n",
    "ax.set_yticklabels(y_labels)\n",
    "ax.invert_yaxis()  # labels read top-to-bottom\n",
    "ax.set_xlabel('Count')\n",
    "ax.set_title('Heart Disease vs No Disease Count')\n",
    "\n",
    "# Add counts as text on the bars\n",
    "for i, v in enumerate(x_counts):\n",
    "    ax.text(v + 10, i, str(v), color='black', va='center', fontweight='bold')\n",
    "\n",
    "# Show the plot\n",
    "plt.show()\n",
    "\n"
   ]
  },
  {
   "cell_type": "markdown",
   "id": "af0be108-45e6-4f01-b832-68dc59a6ad42",
   "metadata": {},
   "source": [
    "### Percentage of target ###"
   ]
  },
  {
   "cell_type": "code",
   "execution_count": 3,
   "id": "303480df-68be-4300-8eef-094edfd5297f",
   "metadata": {
    "tags": []
   },
   "outputs": [
    {
     "name": "stdout",
     "output_type": "stream",
     "text": [
      "Index(['Year', 'LocationAbbr', 'LocationDesc', 'GeographicLevel', 'DataSource',\n",
      "       'Class', 'Topic', 'Data_Value', 'Data_Value_Unit', 'Data_Value_Type',\n",
      "       'Data_Value_Footnote_Symbol', 'Data_Value_Footnote',\n",
      "       'StratificationCategory1', 'Stratification1', 'StratificationCategory2',\n",
      "       'Stratification2', 'TopicID', 'LocationID', 'Location 1'],\n",
      "      dtype='object')\n",
      "count    32149.000000\n",
      "mean       349.306775\n",
      "std        140.549773\n",
      "min          6.000000\n",
      "25%        253.300000\n",
      "50%        340.000000\n",
      "75%        433.800000\n",
      "max       3000.900000\n",
      "Name: Data_Value, dtype: float64\n"
     ]
    }
   ],
   "source": [
    "# Display the column names of the DataFrame\n",
    "print(df.columns)\n",
    "\n",
    "print(df['Data_Value'].describe())\n"
   ]
  },
  {
   "cell_type": "code",
   "execution_count": 15,
   "id": "221e6bab-e603-47aa-93ce-d19a8b85de8c",
   "metadata": {
    "tags": []
   },
   "outputs": [
    {
     "data": {
      "image/png": "[encoded data removed]",
      "text/plain": [
       "<Figure size 640x480 with 1 Axes>"
      ]
     },
     "metadata": {},
     "output_type": "display_data"
    }
   ],
   "source": [
    "import matplotlib.pyplot as plt\n",
    "y = ('Heart Disease', 'No Disease')\n",
    "y_pos = np.arange(len(y))\n",
    "x = (disease, no_disease)\n",
    "labels = 'Heart Disease', 'No Disease'\n",
    "sizes = [disease, no_disease]\n",
    "fig1, ax1 = plt.subplots()\n",
    "ax1.pie(sizes,  labels=labels, autopct='%1.1f%%', startangle=90) \n",
    "ax1.axis('equal')  \n",
    "plt.title('Percentage of target', size=16)\n",
    "plt.show()"
   ]
  },
  {
   "cell_type": "markdown",
   "id": "f430cfa8-3d19-4bfb-af91-01bd0abe4c14",
   "metadata": {},
   "source": [
    "### Analysing the 'target' variable ###"
   ]
  },
  {
   "cell_type": "code",
   "execution_count": 4,
   "id": "32d5f10f-c051-43e3-aa0f-681128fb17ca",
   "metadata": {
    "tags": []
   },
   "outputs": [
    {
     "data": {
      "text/plain": [
       "count    32149.000000\n",
       "mean       349.306775\n",
       "std        140.549773\n",
       "min          6.000000\n",
       "25%        253.300000\n",
       "50%        340.000000\n",
       "75%        433.800000\n",
       "max       3000.900000\n",
       "Name: Data_Value, dtype: float64"
      ]
     },
     "execution_count": 4,
     "metadata": {},
     "output_type": "execute_result"
    }
   ],
   "source": [
    "df[\"Data_Value\"].describe()"
   ]
  },
  {
   "cell_type": "code",
   "execution_count": 5,
   "id": "614d962a-8afd-48ab-bf60-c59fba9e607e",
   "metadata": {
    "tags": []
   },
   "outputs": [
    {
     "data": {
      "text/plain": [
       "array([105.3, 211.9, 257.9, ..., 121. ,  45.2,  42.4])"
      ]
     },
     "execution_count": 5,
     "metadata": {},
     "output_type": "execute_result"
    }
   ],
   "source": [
    "df['Data_Value'].unique()\n"
   ]
  },
  {
   "cell_type": "markdown",
   "id": "00b702ab-1cd9-4eb6-99f5-412b634738b8",
   "metadata": {},
   "source": [
    "### Clearly, this is a classification problem, with the target variable having values '0' and '1'###\n",
    "#### Checking correlation between columns ####"
   ]
  },
  {
   "cell_type": "code",
   "execution_count": 6,
   "id": "dde8e516-e54f-4ae3-a8f2-c64491acfc6f",
   "metadata": {
    "tags": []
   },
   "outputs": [
    {
     "name": "stdout",
     "output_type": "stream",
     "text": [
      "Data_Value    1.000000\n",
      "LocationID    0.015145\n",
      "Year               NaN\n",
      "Name: Data_Value, dtype: float64\n"
     ]
    }
   ],
   "source": [
    "# Calculate correlations and sort them\n",
    "correlations = df.corr(numeric_only=True)[\"Data_Value\"].abs().sort_values(ascending=False)\n",
    "print(correlations)"
   ]
  },
  {
   "cell_type": "code",
   "execution_count": 19,
   "id": "f3da93a0-b113-490e-abf2-e37797803b5e",
   "metadata": {
    "tags": []
   },
   "outputs": [],
   "source": [
    "#This shows that most columns are moderately correlated with target"
   ]
  },
  {
   "cell_type": "markdown",
   "id": "bff6aed1-fef7-4f9a-81d9-e88cf8522363",
   "metadata": {},
   "source": [
    "### Data Cleaning and Preprocessing ###"
   ]
  },
  {
   "cell_type": "code",
   "execution_count": 7,
   "id": "1ed14128-ec4b-4aeb-a050-d80df089e7ff",
   "metadata": {
    "tags": []
   },
   "outputs": [
    {
     "ename": "NameError",
     "evalue": "name 'LabelEncoder' is not defined",
     "output_type": "error",
     "traceback": [
      "\u001b[1;31m---------------------------------------------------------------------------\u001b[0m",
      "\u001b[1;31mNameError\u001b[0m                                 Traceback (most recent call last)",
      "Cell \u001b[1;32mIn[7], line 15\u001b[0m\n\u001b[0;32m     13\u001b[0m label_encoders \u001b[38;5;241m=\u001b[39m {}\n\u001b[0;32m     14\u001b[0m \u001b[38;5;28;01mfor\u001b[39;00m column \u001b[38;5;129;01min\u001b[39;00m [\u001b[38;5;124m'\u001b[39m\u001b[38;5;124mLocationAbbr\u001b[39m\u001b[38;5;124m'\u001b[39m, \u001b[38;5;124m'\u001b[39m\u001b[38;5;124mLocationDesc\u001b[39m\u001b[38;5;124m'\u001b[39m, \u001b[38;5;124m'\u001b[39m\u001b[38;5;124mGeographicLevel\u001b[39m\u001b[38;5;124m'\u001b[39m, \u001b[38;5;124m'\u001b[39m\u001b[38;5;124mDataSource\u001b[39m\u001b[38;5;124m'\u001b[39m, \u001b[38;5;124m'\u001b[39m\u001b[38;5;124mClass\u001b[39m\u001b[38;5;124m'\u001b[39m, \u001b[38;5;124m'\u001b[39m\u001b[38;5;124mTopic\u001b[39m\u001b[38;5;124m'\u001b[39m]:\n\u001b[1;32m---> 15\u001b[0m     le \u001b[38;5;241m=\u001b[39m \u001b[43mLabelEncoder\u001b[49m()\n\u001b[0;32m     16\u001b[0m     data_cleaned[column] \u001b[38;5;241m=\u001b[39m le\u001b[38;5;241m.\u001b[39mfit_transform(data_cleaned[column])\n\u001b[0;32m     17\u001b[0m     label_encoders[column] \u001b[38;5;241m=\u001b[39m le\n",
      "\u001b[1;31mNameError\u001b[0m: name 'LabelEncoder' is not defined"
     ]
    }
   ],
   "source": [
    "# Select relevant columns and handle missing values\n",
    "data_cleaned = df[['Year', 'LocationAbbr', 'LocationDesc', 'GeographicLevel', \n",
    "                   'DataSource', 'Class', 'Topic', 'Data_Value']]\n",
    "\n",
    "# Drop rows with missing 'Data_Value' (target variable)\n",
    "data_cleaned = data_cleaned.dropna(subset=['Data_Value'])\n",
    "\n",
    "# Fill missing values for other columns with the mode (most frequent value)\n",
    "for column in ['GeographicLevel', 'DataSource', 'Class', 'Topic']:\n",
    "    data_cleaned[column].fillna(data_cleaned[column].mode()[0], inplace=True)\n",
    "\n",
    "# Encode categorical columns\n",
    "label_encoders = {}\n",
    "for column in ['LocationAbbr', 'LocationDesc', 'GeographicLevel', 'DataSource', 'Class', 'Topic']:\n",
    "    le = LabelEncoder()\n",
    "    data_cleaned[column] = le.fit_transform(data_cleaned[column])\n",
    "    label_encoders[column] = le\n",
    "\n",
    "# Display the cleaned data\n",
    "print(data_cleaned.head())\n"
   ]
  },
  {
   "cell_type": "markdown",
   "id": "136929d1-49e1-4817-999b-acf8991a821f",
   "metadata": {},
   "source": [
    "###  Missing Values ###"
   ]
  },
  {
   "cell_type": "code",
   "execution_count": 21,
   "id": "44c1766e-1893-474e-bdc9-cf4eef86ca54",
   "metadata": {
    "tags": []
   },
   "outputs": [
    {
     "data": {
      "text/plain": [
       "Year                              0\n",
       "LocationAbbr                      0\n",
       "LocationDesc                      0\n",
       "GeographicLevel                   0\n",
       "DataSource                        0\n",
       "Class                             0\n",
       "Topic                             0\n",
       "Data_Value                    26927\n",
       "Data_Value_Unit                   0\n",
       "Data_Value_Type                   0\n",
       "Data_Value_Footnote_Symbol    32149\n",
       "Data_Value_Footnote           32149\n",
       "StratificationCategory1           0\n",
       "Stratification1                   0\n",
       "StratificationCategory2           0\n",
       "Stratification2                   0\n",
       "TopicID                           0\n",
       "LocationID                        0\n",
       "Location 1                       18\n",
       "dtype: int64"
      ]
     },
     "execution_count": 21,
     "metadata": {},
     "output_type": "execute_result"
    }
   ],
   "source": [
    "df.isna().sum() "
   ]
  },
  {
   "cell_type": "code",
   "execution_count": 8,
   "id": "27ed2398-2162-44bb-ad07-a38568953a33",
   "metadata": {
    "tags": []
   },
   "outputs": [],
   "source": [
    "qualitative = []\n",
    "quantitative = []\n",
    "for feature in df.columns:\n",
    "    if len(df[feature].unique()) <= 8:\n",
    "        qualitative.append(feature)\n",
    "    else:\n",
    "        quantitative.append(feature)"
   ]
  },
  {
   "cell_type": "code",
   "execution_count": 9,
   "id": "a1539fa2-f428-442b-8abf-728506f8b08e",
   "metadata": {
    "tags": []
   },
   "outputs": [
    {
     "data": {
      "text/plain": [
       "['Year',\n",
       " 'GeographicLevel',\n",
       " 'DataSource',\n",
       " 'Class',\n",
       " 'Topic',\n",
       " 'Data_Value_Unit',\n",
       " 'Data_Value_Type',\n",
       " 'Data_Value_Footnote_Symbol',\n",
       " 'Data_Value_Footnote',\n",
       " 'StratificationCategory1',\n",
       " 'Stratification1',\n",
       " 'StratificationCategory2',\n",
       " 'Stratification2',\n",
       " 'TopicID']"
      ]
     },
     "execution_count": 9,
     "metadata": {},
     "output_type": "execute_result"
    }
   ],
   "source": [
    "qualitative"
   ]
  },
  {
   "cell_type": "code",
   "execution_count": 10,
   "id": "5358f43d-0b2d-48ff-93b2-e33d015d8cf6",
   "metadata": {
    "tags": []
   },
   "outputs": [
    {
     "data": {
      "text/plain": [
       "['LocationAbbr', 'LocationDesc', 'Data_Value', 'LocationID', 'Location 1']"
      ]
     },
     "execution_count": 10,
     "metadata": {},
     "output_type": "execute_result"
    }
   ],
   "source": [
    "quantitative"
   ]
  },
  {
   "cell_type": "markdown",
   "id": "75c533cd-e581-4d1b-bcea-48271f8683af",
   "metadata": {},
   "source": [
    "### Top correlated features of dataset ###"
   ]
  },
  {
   "cell_type": "code",
   "execution_count": 11,
   "id": "0d9c161a-b420-4c35-83b9-b6bdf8e61a6c",
   "metadata": {
    "tags": []
   },
   "outputs": [
    {
     "data": {
      "image/png": "[encoded data removed]",
      "text/plain": [
       "<Figure size 1000x1000 with 2 Axes>"
      ]
     },
     "metadata": {},
     "output_type": "display_data"
    }
   ],
   "source": [
    "import pandas as pd\n",
    "import seaborn as sns\n",
    "import matplotlib.pyplot as plt\n",
    "\n",
    "# Compute correlation matrix\n",
    "corr = data_cleaned.corr(numeric_only=True)\n",
    "\n",
    "# Get the top 15 features most correlated with 'Data_Value'\n",
    "top = 15\n",
    "top15 = corr.nlargest(top, 'Data_Value')['Data_Value'].index\n",
    "\n",
    "# Create a correlation matrix for the top 15 features\n",
    "corr_top15 = data_cleaned[top15].corr()\n",
    "\n",
    "# Plot the heatmap\n",
    "f, ax = plt.subplots(figsize=(10, 10))\n",
    "sns.heatmap(corr_top15, square=True, ax=ax, annot=True, cmap='coolwarm', fmt='.2f', annot_kws={'size': 12})\n",
    "plt.title('Top correlated features of dataset', size=16)\n",
    "plt.show()\n"
   ]
  },
  {
   "cell_type": "code",
   "execution_count": 12,
   "id": "8bb336d8-ede3-47a8-a2a9-7514d2fe7f42",
   "metadata": {
    "tags": []
   },
   "outputs": [
    {
     "data": {
      "image/png": "[encoded data removed]",
      "text/plain": [
       "<Figure size 1000x600 with 1 Axes>"
      ]
     },
     "metadata": {},
     "output_type": "display_data"
    }
   ],
   "source": [
    "import pandas as pd\n",
    "import seaborn as sns\n",
    "import matplotlib.pyplot as plt\n",
    "import warnings\n",
    "\n",
    "# Suppress warnings\n",
    "warnings.filterwarnings('ignore')\n",
    "\n",
    "# Check if 'Data_Value_Type' column exists\n",
    "if 'Data_Value_Type' in df.columns:\n",
    "    plt.figure(figsize=(10, 6))\n",
    "    sns.histplot(df['Data_Value_Type'], kde=True, bins=30, color='purple')  \n",
    "    plt.title('Distribution of Data_Value_Type')\n",
    "    plt.xlabel('Data_Value_Type')\n",
    "    plt.ylabel('Count')  # Adjust ylabel based on your actual data interpretation\n",
    "    plt.grid(True)\n",
    "    plt.show()\n",
    "else:\n",
    "    print(\"Column 'Data_Value_Type' not found in the dataset. Available columns are:\", df.columns)\n",
    "\n"
   ]
  },
  {
   "cell_type": "markdown",
   "id": "6de31c91-9ec4-4f30-9b46-33fc1f624267",
   "metadata": {},
   "source": [
    "#### Seaborn visualizing with creating plots that pairwise relationships in a dataset. ####"
   ]
  },
  {
   "cell_type": "code",
   "execution_count": 13,
   "id": "62d3b5c1-39b1-46c0-8fda-57f928178e1f",
   "metadata": {
    "tags": []
   },
   "outputs": [
    {
     "data": {
      "text/plain": [
       "<seaborn.axisgrid.PairGrid at 0x226a421afa0>"
      ]
     },
     "execution_count": 13,
     "metadata": {},
     "output_type": "execute_result"
    },
    {
     "data": {
      "image/png": "[encoded data removed]",
      "text/plain": [
       "<Figure size 750x750 with 12 Axes>"
      ]
     },
     "metadata": {},
     "output_type": "display_data"
    }
   ],
   "source": [
    "sns.pairplot(df)"
   ]
  },
  {
   "cell_type": "markdown",
   "id": "863eb061-6b05-4530-86ee-99356d8968c1",
   "metadata": {},
   "source": [
    "## RandomForestRegressor ##"
   ]
  },
  {
   "cell_type": "markdown",
   "id": "03b05c20-7c50-46b8-9c3b-1762b3cfed59",
   "metadata": {},
   "source": [
    "### Prediction of new data ###"
   ]
  },
  {
   "cell_type": "code",
   "execution_count": 14,
   "id": "4fd337bd-dd18-4b15-9e80-489e835ef657",
   "metadata": {
    "tags": []
   },
   "outputs": [
    {
     "ename": "ValueError",
     "evalue": "could not convert string to float: 'MN'",
     "output_type": "error",
     "traceback": [
      "\u001b[1;31m---------------------------------------------------------------------------\u001b[0m",
      "\u001b[1;31mValueError\u001b[0m                                Traceback (most recent call last)",
      "\u001b[1;32m~\\AppData\\Local\\Temp\\ipykernel_17064\\168605653.py\u001b[0m in \u001b[0;36m?\u001b[1;34m()\u001b[0m\n\u001b[1;32m---> 16\u001b[1;33m \u001b[1;32mfrom\u001b[0m \u001b[0msklearn\u001b[0m\u001b[1;33m.\u001b[0m\u001b[0mmodel_selection\u001b[0m \u001b[1;32mimport\u001b[0m \u001b[0mtrain_test_split\u001b[0m\u001b[1;33m\u001b[0m\u001b[1;33m\u001b[0m\u001b[0m\n\u001b[0m\u001b[0;32m     17\u001b[0m \u001b[1;32mfrom\u001b[0m \u001b[0msklearn\u001b[0m\u001b[1;33m.\u001b[0m\u001b[0mensemble\u001b[0m \u001b[1;32mimport\u001b[0m \u001b[0mRandomForestClassifier\u001b[0m\u001b[1;33m\u001b[0m\u001b[1;33m\u001b[0m\u001b[0m\n\u001b[0;32m     18\u001b[0m \u001b[1;32mfrom\u001b[0m \u001b[0msklearn\u001b[0m\u001b[1;33m.\u001b[0m\u001b[0mpreprocessing\u001b[0m \u001b[1;32mimport\u001b[0m \u001b[0mStandardScaler\u001b[0m\u001b[1;33m,\u001b[0m \u001b[0mLabelEncoder\u001b[0m\u001b[1;33m\u001b[0m\u001b[1;33m\u001b[0m\u001b[0m\n\u001b[0;32m     19\u001b[0m \u001b[1;32mimport\u001b[0m \u001b[0mjoblib\u001b[0m\u001b[1;33m\u001b[0m\u001b[1;33m\u001b[0m\u001b[0m\n",
      "\u001b[1;32m~\\AppData\\Local\\Programs\\Python\\Python39\\lib\\site-packages\\sklearn\\utils\\_set_output.py\u001b[0m in \u001b[0;36m?\u001b[1;34m(self, X, *args, **kwargs)\u001b[0m\n\u001b[0;32m    155\u001b[0m     \u001b[1;33m@\u001b[0m\u001b[0mwraps\u001b[0m\u001b[1;33m(\u001b[0m\u001b[0mf\u001b[0m\u001b[1;33m)\u001b[0m\u001b[1;33m\u001b[0m\u001b[1;33m\u001b[0m\u001b[0m\n\u001b[0;32m    156\u001b[0m     \u001b[1;32mdef\u001b[0m \u001b[0mwrapped\u001b[0m\u001b[1;33m(\u001b[0m\u001b[0mself\u001b[0m\u001b[1;33m,\u001b[0m \u001b[0mX\u001b[0m\u001b[1;33m,\u001b[0m \u001b[1;33m*\u001b[0m\u001b[0margs\u001b[0m\u001b[1;33m,\u001b[0m \u001b[1;33m**\u001b[0m\u001b[0mkwargs\u001b[0m\u001b[1;33m)\u001b[0m\u001b[1;33m:\u001b[0m\u001b[1;33m\u001b[0m\u001b[1;33m\u001b[0m\u001b[0m\n\u001b[1;32m--> 157\u001b[1;33m         \u001b[0mdata_to_wrap\u001b[0m \u001b[1;33m=\u001b[0m \u001b[0mf\u001b[0m\u001b[1;33m(\u001b[0m\u001b[0mself\u001b[0m\u001b[1;33m,\u001b[0m \u001b[0mX\u001b[0m\u001b[1;33m,\u001b[0m \u001b[1;33m*\u001b[0m\u001b[0margs\u001b[0m\u001b[1;33m,\u001b[0m \u001b[1;33m**\u001b[0m\u001b[0mkwargs\u001b[0m\u001b[1;33m)\u001b[0m\u001b[1;33m\u001b[0m\u001b[1;33m\u001b[0m\u001b[0m\n\u001b[0m\u001b[0;32m    158\u001b[0m         \u001b[1;32mif\u001b[0m \u001b[0misinstance\u001b[0m\u001b[1;33m(\u001b[0m\u001b[0mdata_to_wrap\u001b[0m\u001b[1;33m,\u001b[0m \u001b[0mtuple\u001b[0m\u001b[1;33m)\u001b[0m\u001b[1;33m:\u001b[0m\u001b[1;33m\u001b[0m\u001b[1;33m\u001b[0m\u001b[0m\n\u001b[0;32m    159\u001b[0m             \u001b[1;31m# only wrap the first output for cross decomposition\u001b[0m\u001b[1;33m\u001b[0m\u001b[1;33m\u001b[0m\u001b[0m\n\u001b[0;32m    160\u001b[0m             return_tuple = (\n",
      "\u001b[1;32m~\\AppData\\Local\\Programs\\Python\\Python39\\lib\\site-packages\\sklearn\\base.py\u001b[0m in \u001b[0;36m?\u001b[1;34m(self, X, y, **fit_params)\u001b[0m\n\u001b[0;32m    912\u001b[0m         \u001b[1;31m# non-optimized default implementation; override when a better\u001b[0m\u001b[1;33m\u001b[0m\u001b[1;33m\u001b[0m\u001b[0m\n\u001b[0;32m    913\u001b[0m         \u001b[1;31m# method is possible for a given clustering algorithm\u001b[0m\u001b[1;33m\u001b[0m\u001b[1;33m\u001b[0m\u001b[0m\n\u001b[0;32m    914\u001b[0m         \u001b[1;32mif\u001b[0m \u001b[0my\u001b[0m \u001b[1;32mis\u001b[0m \u001b[1;32mNone\u001b[0m\u001b[1;33m:\u001b[0m\u001b[1;33m\u001b[0m\u001b[1;33m\u001b[0m\u001b[0m\n\u001b[0;32m    915\u001b[0m             \u001b[1;31m# fit method of arity 1 (unsupervised transformation)\u001b[0m\u001b[1;33m\u001b[0m\u001b[1;33m\u001b[0m\u001b[0m\n\u001b[1;32m--> 916\u001b[1;33m             \u001b[1;32mreturn\u001b[0m \u001b[0mself\u001b[0m\u001b[1;33m.\u001b[0m\u001b[0mfit\u001b[0m\u001b[1;33m(\u001b[0m\u001b[0mX\u001b[0m\u001b[1;33m,\u001b[0m \u001b[1;33m**\u001b[0m\u001b[0mfit_params\u001b[0m\u001b[1;33m)\u001b[0m\u001b[1;33m.\u001b[0m\u001b[0mtransform\u001b[0m\u001b[1;33m(\u001b[0m\u001b[0mX\u001b[0m\u001b[1;33m)\u001b[0m\u001b[1;33m\u001b[0m\u001b[1;33m\u001b[0m\u001b[0m\n\u001b[0m\u001b[0;32m    917\u001b[0m         \u001b[1;32melse\u001b[0m\u001b[1;33m:\u001b[0m\u001b[1;33m\u001b[0m\u001b[1;33m\u001b[0m\u001b[0m\n\u001b[0;32m    918\u001b[0m             \u001b[1;31m# fit method of arity 2 (supervised transformation)\u001b[0m\u001b[1;33m\u001b[0m\u001b[1;33m\u001b[0m\u001b[0m\n\u001b[0;32m    919\u001b[0m             \u001b[1;32mreturn\u001b[0m \u001b[0mself\u001b[0m\u001b[1;33m.\u001b[0m\u001b[0mfit\u001b[0m\u001b[1;33m(\u001b[0m\u001b[0mX\u001b[0m\u001b[1;33m,\u001b[0m \u001b[0my\u001b[0m\u001b[1;33m,\u001b[0m \u001b[1;33m**\u001b[0m\u001b[0mfit_params\u001b[0m\u001b[1;33m)\u001b[0m\u001b[1;33m.\u001b[0m\u001b[0mtransform\u001b[0m\u001b[1;33m(\u001b[0m\u001b[0mX\u001b[0m\u001b[1;33m)\u001b[0m\u001b[1;33m\u001b[0m\u001b[1;33m\u001b[0m\u001b[0m\n",
      "\u001b[1;32m~\\AppData\\Local\\Programs\\Python\\Python39\\lib\\site-packages\\sklearn\\preprocessing\\_data.py\u001b[0m in \u001b[0;36m?\u001b[1;34m(self, X, y, sample_weight)\u001b[0m\n\u001b[0;32m    835\u001b[0m             \u001b[0mFitted\u001b[0m \u001b[0mscaler\u001b[0m\u001b[1;33m.\u001b[0m\u001b[1;33m\u001b[0m\u001b[1;33m\u001b[0m\u001b[0m\n\u001b[0;32m    836\u001b[0m         \"\"\"\n\u001b[0;32m    837\u001b[0m         \u001b[1;31m# Reset internal state before fitting\u001b[0m\u001b[1;33m\u001b[0m\u001b[1;33m\u001b[0m\u001b[0m\n\u001b[0;32m    838\u001b[0m         \u001b[0mself\u001b[0m\u001b[1;33m.\u001b[0m\u001b[0m_reset\u001b[0m\u001b[1;33m(\u001b[0m\u001b[1;33m)\u001b[0m\u001b[1;33m\u001b[0m\u001b[1;33m\u001b[0m\u001b[0m\n\u001b[1;32m--> 839\u001b[1;33m         \u001b[1;32mreturn\u001b[0m \u001b[0mself\u001b[0m\u001b[1;33m.\u001b[0m\u001b[0mpartial_fit\u001b[0m\u001b[1;33m(\u001b[0m\u001b[0mX\u001b[0m\u001b[1;33m,\u001b[0m \u001b[0my\u001b[0m\u001b[1;33m,\u001b[0m \u001b[0msample_weight\u001b[0m\u001b[1;33m)\u001b[0m\u001b[1;33m\u001b[0m\u001b[1;33m\u001b[0m\u001b[0m\n\u001b[0m",
      "\u001b[1;32m~\\AppData\\Local\\Programs\\Python\\Python39\\lib\\site-packages\\sklearn\\base.py\u001b[0m in \u001b[0;36m?\u001b[1;34m(estimator, *args, **kwargs)\u001b[0m\n\u001b[0;32m   1148\u001b[0m                 skip_parameter_validation=(\n\u001b[0;32m   1149\u001b[0m                     \u001b[0mprefer_skip_nested_validation\u001b[0m \u001b[1;32mor\u001b[0m \u001b[0mglobal_skip_validation\u001b[0m\u001b[1;33m\u001b[0m\u001b[1;33m\u001b[0m\u001b[0m\n\u001b[0;32m   1150\u001b[0m                 )\n\u001b[0;32m   1151\u001b[0m             ):\n\u001b[1;32m-> 1152\u001b[1;33m                 \u001b[1;32mreturn\u001b[0m \u001b[0mfit_method\u001b[0m\u001b[1;33m(\u001b[0m\u001b[0mestimator\u001b[0m\u001b[1;33m,\u001b[0m \u001b[1;33m*\u001b[0m\u001b[0margs\u001b[0m\u001b[1;33m,\u001b[0m \u001b[1;33m**\u001b[0m\u001b[0mkwargs\u001b[0m\u001b[1;33m)\u001b[0m\u001b[1;33m\u001b[0m\u001b[1;33m\u001b[0m\u001b[0m\n\u001b[0m",
      "\u001b[1;32m~\\AppData\\Local\\Programs\\Python\\Python39\\lib\\site-packages\\sklearn\\preprocessing\\_data.py\u001b[0m in \u001b[0;36m?\u001b[1;34m(self, X, y, sample_weight)\u001b[0m\n\u001b[0;32m    871\u001b[0m         \u001b[0mself\u001b[0m \u001b[1;33m:\u001b[0m \u001b[0mobject\u001b[0m\u001b[1;33m\u001b[0m\u001b[1;33m\u001b[0m\u001b[0m\n\u001b[0;32m    872\u001b[0m             \u001b[0mFitted\u001b[0m \u001b[0mscaler\u001b[0m\u001b[1;33m.\u001b[0m\u001b[1;33m\u001b[0m\u001b[1;33m\u001b[0m\u001b[0m\n\u001b[0;32m    873\u001b[0m         \"\"\"\n\u001b[0;32m    874\u001b[0m         \u001b[0mfirst_call\u001b[0m \u001b[1;33m=\u001b[0m \u001b[1;32mnot\u001b[0m \u001b[0mhasattr\u001b[0m\u001b[1;33m(\u001b[0m\u001b[0mself\u001b[0m\u001b[1;33m,\u001b[0m \u001b[1;34m\"n_samples_seen_\"\u001b[0m\u001b[1;33m)\u001b[0m\u001b[1;33m\u001b[0m\u001b[1;33m\u001b[0m\u001b[0m\n\u001b[1;32m--> 875\u001b[1;33m         X = self._validate_data(\n\u001b[0m\u001b[0;32m    876\u001b[0m             \u001b[0mX\u001b[0m\u001b[1;33m,\u001b[0m\u001b[1;33m\u001b[0m\u001b[1;33m\u001b[0m\u001b[0m\n\u001b[0;32m    877\u001b[0m             \u001b[0maccept_sparse\u001b[0m\u001b[1;33m=\u001b[0m\u001b[1;33m(\u001b[0m\u001b[1;34m\"csr\"\u001b[0m\u001b[1;33m,\u001b[0m \u001b[1;34m\"csc\"\u001b[0m\u001b[1;33m)\u001b[0m\u001b[1;33m,\u001b[0m\u001b[1;33m\u001b[0m\u001b[1;33m\u001b[0m\u001b[0m\n\u001b[0;32m    878\u001b[0m             \u001b[0mdtype\u001b[0m\u001b[1;33m=\u001b[0m\u001b[0mFLOAT_DTYPES\u001b[0m\u001b[1;33m,\u001b[0m\u001b[1;33m\u001b[0m\u001b[1;33m\u001b[0m\u001b[0m\n",
      "\u001b[1;32m~\\AppData\\Local\\Programs\\Python\\Python39\\lib\\site-packages\\sklearn\\base.py\u001b[0m in \u001b[0;36m?\u001b[1;34m(self, X, y, reset, validate_separately, cast_to_ndarray, **check_params)\u001b[0m\n\u001b[0;32m    601\u001b[0m                 \u001b[0mout\u001b[0m \u001b[1;33m=\u001b[0m \u001b[0my\u001b[0m\u001b[1;33m\u001b[0m\u001b[1;33m\u001b[0m\u001b[0m\n\u001b[0;32m    602\u001b[0m             \u001b[1;32melse\u001b[0m\u001b[1;33m:\u001b[0m\u001b[1;33m\u001b[0m\u001b[1;33m\u001b[0m\u001b[0m\n\u001b[0;32m    603\u001b[0m                 \u001b[0mout\u001b[0m \u001b[1;33m=\u001b[0m \u001b[0mX\u001b[0m\u001b[1;33m,\u001b[0m \u001b[0my\u001b[0m\u001b[1;33m\u001b[0m\u001b[1;33m\u001b[0m\u001b[0m\n\u001b[0;32m    604\u001b[0m         \u001b[1;32melif\u001b[0m \u001b[1;32mnot\u001b[0m \u001b[0mno_val_X\u001b[0m \u001b[1;32mand\u001b[0m \u001b[0mno_val_y\u001b[0m\u001b[1;33m:\u001b[0m\u001b[1;33m\u001b[0m\u001b[1;33m\u001b[0m\u001b[0m\n\u001b[1;32m--> 605\u001b[1;33m             \u001b[0mout\u001b[0m \u001b[1;33m=\u001b[0m \u001b[0mcheck_array\u001b[0m\u001b[1;33m(\u001b[0m\u001b[0mX\u001b[0m\u001b[1;33m,\u001b[0m \u001b[0minput_name\u001b[0m\u001b[1;33m=\u001b[0m\u001b[1;34m\"X\"\u001b[0m\u001b[1;33m,\u001b[0m \u001b[1;33m**\u001b[0m\u001b[0mcheck_params\u001b[0m\u001b[1;33m)\u001b[0m\u001b[1;33m\u001b[0m\u001b[1;33m\u001b[0m\u001b[0m\n\u001b[0m\u001b[0;32m    606\u001b[0m         \u001b[1;32melif\u001b[0m \u001b[0mno_val_X\u001b[0m \u001b[1;32mand\u001b[0m \u001b[1;32mnot\u001b[0m \u001b[0mno_val_y\u001b[0m\u001b[1;33m:\u001b[0m\u001b[1;33m\u001b[0m\u001b[1;33m\u001b[0m\u001b[0m\n\u001b[0;32m    607\u001b[0m             \u001b[0mout\u001b[0m \u001b[1;33m=\u001b[0m \u001b[0m_check_y\u001b[0m\u001b[1;33m(\u001b[0m\u001b[0my\u001b[0m\u001b[1;33m,\u001b[0m \u001b[1;33m**\u001b[0m\u001b[0mcheck_params\u001b[0m\u001b[1;33m)\u001b[0m\u001b[1;33m\u001b[0m\u001b[1;33m\u001b[0m\u001b[0m\n\u001b[0;32m    608\u001b[0m         \u001b[1;32melse\u001b[0m\u001b[1;33m:\u001b[0m\u001b[1;33m\u001b[0m\u001b[1;33m\u001b[0m\u001b[0m\n",
      "\u001b[1;32m~\\AppData\\Local\\Programs\\Python\\Python39\\lib\\site-packages\\sklearn\\utils\\validation.py\u001b[0m in \u001b[0;36m?\u001b[1;34m(array, accept_sparse, accept_large_sparse, dtype, order, copy, force_all_finite, ensure_2d, allow_nd, ensure_min_samples, ensure_min_features, estimator, input_name)\u001b[0m\n\u001b[0;32m    913\u001b[0m                     \u001b[0marray\u001b[0m \u001b[1;33m=\u001b[0m \u001b[0mxp\u001b[0m\u001b[1;33m.\u001b[0m\u001b[0mastype\u001b[0m\u001b[1;33m(\u001b[0m\u001b[0marray\u001b[0m\u001b[1;33m,\u001b[0m \u001b[0mdtype\u001b[0m\u001b[1;33m,\u001b[0m \u001b[0mcopy\u001b[0m\u001b[1;33m=\u001b[0m\u001b[1;32mFalse\u001b[0m\u001b[1;33m)\u001b[0m\u001b[1;33m\u001b[0m\u001b[1;33m\u001b[0m\u001b[0m\n\u001b[0;32m    914\u001b[0m                 \u001b[1;32melse\u001b[0m\u001b[1;33m:\u001b[0m\u001b[1;33m\u001b[0m\u001b[1;33m\u001b[0m\u001b[0m\n\u001b[0;32m    915\u001b[0m                     \u001b[0marray\u001b[0m \u001b[1;33m=\u001b[0m \u001b[0m_asarray_with_order\u001b[0m\u001b[1;33m(\u001b[0m\u001b[0marray\u001b[0m\u001b[1;33m,\u001b[0m \u001b[0morder\u001b[0m\u001b[1;33m=\u001b[0m\u001b[0morder\u001b[0m\u001b[1;33m,\u001b[0m \u001b[0mdtype\u001b[0m\u001b[1;33m=\u001b[0m\u001b[0mdtype\u001b[0m\u001b[1;33m,\u001b[0m \u001b[0mxp\u001b[0m\u001b[1;33m=\u001b[0m\u001b[0mxp\u001b[0m\u001b[1;33m)\u001b[0m\u001b[1;33m\u001b[0m\u001b[1;33m\u001b[0m\u001b[0m\n\u001b[0;32m    916\u001b[0m             \u001b[1;32mexcept\u001b[0m \u001b[0mComplexWarning\u001b[0m \u001b[1;32mas\u001b[0m \u001b[0mcomplex_warning\u001b[0m\u001b[1;33m:\u001b[0m\u001b[1;33m\u001b[0m\u001b[1;33m\u001b[0m\u001b[0m\n\u001b[1;32m--> 917\u001b[1;33m                 raise ValueError(\n\u001b[0m\u001b[0;32m    918\u001b[0m                     \u001b[1;34m\"Complex data not supported\\n{}\\n\"\u001b[0m\u001b[1;33m.\u001b[0m\u001b[0mformat\u001b[0m\u001b[1;33m(\u001b[0m\u001b[0marray\u001b[0m\u001b[1;33m)\u001b[0m\u001b[1;33m\u001b[0m\u001b[1;33m\u001b[0m\u001b[0m\n\u001b[0;32m    919\u001b[0m                 ) from complex_warning\n\u001b[0;32m    920\u001b[0m \u001b[1;33m\u001b[0m\u001b[0m\n",
      "\u001b[1;32m~\\AppData\\Local\\Programs\\Python\\Python39\\lib\\site-packages\\sklearn\\utils\\_array_api.py\u001b[0m in \u001b[0;36m?\u001b[1;34m(array, dtype, order, copy, xp)\u001b[0m\n\u001b[0;32m    376\u001b[0m         \u001b[1;31m# Use NumPy API to support order\u001b[0m\u001b[1;33m\u001b[0m\u001b[1;33m\u001b[0m\u001b[0m\n\u001b[0;32m    377\u001b[0m         \u001b[1;32mif\u001b[0m \u001b[0mcopy\u001b[0m \u001b[1;32mis\u001b[0m \u001b[1;32mTrue\u001b[0m\u001b[1;33m:\u001b[0m\u001b[1;33m\u001b[0m\u001b[1;33m\u001b[0m\u001b[0m\n\u001b[0;32m    378\u001b[0m             \u001b[0marray\u001b[0m \u001b[1;33m=\u001b[0m \u001b[0mnumpy\u001b[0m\u001b[1;33m.\u001b[0m\u001b[0marray\u001b[0m\u001b[1;33m(\u001b[0m\u001b[0marray\u001b[0m\u001b[1;33m,\u001b[0m \u001b[0morder\u001b[0m\u001b[1;33m=\u001b[0m\u001b[0morder\u001b[0m\u001b[1;33m,\u001b[0m \u001b[0mdtype\u001b[0m\u001b[1;33m=\u001b[0m\u001b[0mdtype\u001b[0m\u001b[1;33m)\u001b[0m\u001b[1;33m\u001b[0m\u001b[1;33m\u001b[0m\u001b[0m\n\u001b[0;32m    379\u001b[0m         \u001b[1;32melse\u001b[0m\u001b[1;33m:\u001b[0m\u001b[1;33m\u001b[0m\u001b[1;33m\u001b[0m\u001b[0m\n\u001b[1;32m--> 380\u001b[1;33m             \u001b[0marray\u001b[0m \u001b[1;33m=\u001b[0m \u001b[0mnumpy\u001b[0m\u001b[1;33m.\u001b[0m\u001b[0masarray\u001b[0m\u001b[1;33m(\u001b[0m\u001b[0marray\u001b[0m\u001b[1;33m,\u001b[0m \u001b[0morder\u001b[0m\u001b[1;33m=\u001b[0m\u001b[0morder\u001b[0m\u001b[1;33m,\u001b[0m \u001b[0mdtype\u001b[0m\u001b[1;33m=\u001b[0m\u001b[0mdtype\u001b[0m\u001b[1;33m)\u001b[0m\u001b[1;33m\u001b[0m\u001b[1;33m\u001b[0m\u001b[0m\n\u001b[0m\u001b[0;32m    381\u001b[0m \u001b[1;33m\u001b[0m\u001b[0m\n\u001b[0;32m    382\u001b[0m         \u001b[1;31m# At this point array is a NumPy ndarray. We convert it to an array\u001b[0m\u001b[1;33m\u001b[0m\u001b[1;33m\u001b[0m\u001b[0m\n\u001b[0;32m    383\u001b[0m         \u001b[1;31m# container that is consistent with the input's namespace.\u001b[0m\u001b[1;33m\u001b[0m\u001b[1;33m\u001b[0m\u001b[0m\n",
      "\u001b[1;32m~\\AppData\\Local\\Programs\\Python\\Python39\\lib\\site-packages\\pandas\\core\\generic.py\u001b[0m in \u001b[0;36m?\u001b[1;34m(self, dtype)\u001b[0m\n\u001b[0;32m   2082\u001b[0m     \u001b[1;32mdef\u001b[0m \u001b[0m__array__\u001b[0m\u001b[1;33m(\u001b[0m\u001b[0mself\u001b[0m\u001b[1;33m,\u001b[0m \u001b[0mdtype\u001b[0m\u001b[1;33m:\u001b[0m \u001b[0mnpt\u001b[0m\u001b[1;33m.\u001b[0m\u001b[0mDTypeLike\u001b[0m \u001b[1;33m|\u001b[0m \u001b[1;32mNone\u001b[0m \u001b[1;33m=\u001b[0m \u001b[1;32mNone\u001b[0m\u001b[1;33m)\u001b[0m \u001b[1;33m->\u001b[0m \u001b[0mnp\u001b[0m\u001b[1;33m.\u001b[0m\u001b[0mndarray\u001b[0m\u001b[1;33m:\u001b[0m\u001b[1;33m\u001b[0m\u001b[1;33m\u001b[0m\u001b[0m\n\u001b[0;32m   2083\u001b[0m         \u001b[0mvalues\u001b[0m \u001b[1;33m=\u001b[0m \u001b[0mself\u001b[0m\u001b[1;33m.\u001b[0m\u001b[0m_values\u001b[0m\u001b[1;33m\u001b[0m\u001b[1;33m\u001b[0m\u001b[0m\n\u001b[1;32m-> 2084\u001b[1;33m         \u001b[0marr\u001b[0m \u001b[1;33m=\u001b[0m \u001b[0mnp\u001b[0m\u001b[1;33m.\u001b[0m\u001b[0masarray\u001b[0m\u001b[1;33m(\u001b[0m\u001b[0mvalues\u001b[0m\u001b[1;33m,\u001b[0m \u001b[0mdtype\u001b[0m\u001b[1;33m=\u001b[0m\u001b[0mdtype\u001b[0m\u001b[1;33m)\u001b[0m\u001b[1;33m\u001b[0m\u001b[1;33m\u001b[0m\u001b[0m\n\u001b[0m\u001b[0;32m   2085\u001b[0m         if (\n\u001b[0;32m   2086\u001b[0m             \u001b[0mastype_is_view\u001b[0m\u001b[1;33m(\u001b[0m\u001b[0mvalues\u001b[0m\u001b[1;33m.\u001b[0m\u001b[0mdtype\u001b[0m\u001b[1;33m,\u001b[0m \u001b[0marr\u001b[0m\u001b[1;33m.\u001b[0m\u001b[0mdtype\u001b[0m\u001b[1;33m)\u001b[0m\u001b[1;33m\u001b[0m\u001b[1;33m\u001b[0m\u001b[0m\n\u001b[0;32m   2087\u001b[0m             \u001b[1;32mand\u001b[0m \u001b[0musing_copy_on_write\u001b[0m\u001b[1;33m(\u001b[0m\u001b[1;33m)\u001b[0m\u001b[1;33m\u001b[0m\u001b[1;33m\u001b[0m\u001b[0m\n",
      "\u001b[1;31mValueError\u001b[0m: could not convert string to float: 'MN'"
     ]
    }
   ],
   "source": [
    "from sklearn.model_selection import train_test_split\n",
    "from sklearn.ensemble import RandomForestClassifier\n",
    "from sklearn.preprocessing import StandardScaler, LabelEncoder\n",
    "import joblib\n",
    "\n",
    "# Define features and target variable\n",
    "features = data_cleaned[['Year', 'LocationAbbr', 'LocationDesc', 'GeographicLevel', 'DataSource', 'Class', 'Topic']]\n",
    "data_cleaned['Data_Value_Category'] = pd.cut(data_cleaned['Data_Value'], bins=3, labels=['low', 'medium', 'high'])\n",
    "target = data_cleaned['Data_Value_Category']\n",
    "\n",
    "# Split the data into training and testing sets\n",
    "X_train, X_test, Y_train, Y_test = train_test_split(features, target, test_size=0.2, random_state=42)\n",
    "\n",
    "# Scale the features\n",
    "scaler = StandardScaler()\n",
    "X_train_scaled = scaler.fit_transform(X_train)\n",
    "X_test_scaled = scaler.transform(X_test)\n",
    "\n",
    "# Encode target variable\n",
    "label_encoder = LabelEncoder()\n",
    "Y_train_encoded = label_encoder.fit_transform(Y_train)\n",
    "Y_test_encoded = label_encoder.transform(Y_test)\n",
    "\n",
    "# Create the model\n",
    "rf_classifier = RandomForestClassifier(random_state=42)\n",
    "\n",
    "# Train the model\n",
    "rf_classifier.fit(X_train_scaled, Y_train_encoded)\n",
    "\n",
    "# Save the trained model for future use\n",
    "joblib.dump(rf_classifier, 'heart_disease_regressor_model.pkl')\n",
    "\n",
    "# Optionally, you can evaluate the model on the test set\n",
    "accuracy = rf_classifier.score(X_test_scaled, Y_test_encoded)\n",
    "print(f'Accuracy on test set: {accuracy:.2f}')"
   ]
  },
  {
   "cell_type": "code",
   "execution_count": 15,
   "id": "dac2bf6b-7ab3-466a-95b5-667f83844718",
   "metadata": {
    "tags": []
   },
   "outputs": [
    {
     "name": "stdout",
     "output_type": "stream",
     "text": [
      "['.ipynb_checkpoints', 'app (1).py', 'Fwd_ Yeni Dosya- heart_disease_regressor_model.zip', 'heart_disease.csv', 'heart_disease_regressor_model.ipynb', 'heart_disease_regressor_model.pkl', 'public_index.html']\n",
      "Error: label_encoders.pkl or scaler.pkl not found. Please check the file path.\n",
      "Error during prediction: 'LocationAbbr'\n"
     ]
    }
   ],
   "source": [
    "import pandas as pd\n",
    "import joblib\n",
    "import os\n",
    "\n",
    "model_file = 'heart_disease_regressor_model.pkl'\n",
    "label_encoders_file = 'label_encoders.pkl'\n",
    "scaler_file = 'scaler.pkl'\n",
    "\n",
    "# Check current directory contents\n",
    "print(os.listdir())\n",
    "\n",
    "# Check if the model file exists\n",
    "if not os.path.exists(model_file):\n",
    "    print(f\"Error: {model_file} not found. Please check the file path.\")\n",
    "else:\n",
    "    # Load the saved model\n",
    "    loaded_model = joblib.load(model_file)\n",
    "    \n",
    "    # Load label encoders and scaler\n",
    "    if os.path.exists(label_encoders_file) and os.path.exists(scaler_file):\n",
    "        label_encoders = joblib.load(label_encoders_file)\n",
    "        scaler = joblib.load(scaler_file)\n",
    "    else:\n",
    "        print(\"Error: label_encoders.pkl or scaler.pkl not found. Please check the file path.\")\n",
    "        exit()\n",
    "    \n",
    "    try:\n",
    "        # Prepare new data\n",
    "        new_data = pd.DataFrame({\n",
    "            'Year': [2022],\n",
    "            'LocationAbbr': [label_encoders['LocationAbbr'].transform(['AK'])[0]], \n",
    "            'LocationDesc': [label_encoders['LocationDesc'].transform(['Anchorage'])[0]], \n",
    "            'GeographicLevel': [label_encoders['GeographicLevel'].transform(['County'])[0]],  \n",
    "            'DataSource': [label_encoders['DataSource'].transform(['NVSS'])[0]],  \n",
    "            'Class': [label_encoders['Class'].transform(['Cardiovascular Diseases'])[0]],  \n",
    "            'Topic': [label_encoders['Topic'].transform(['Heart Disease Mortality'])[0]] \n",
    "        })\n",
    "\n",
    "        # Scale the new data\n",
    "        new_data_scaled = scaler.transform(new_data)\n",
    "\n",
    "        # Predict the heart disease mortality rate\n",
    "        prediction = loaded_model.predict(new_data_scaled)\n",
    "\n",
    "        print(f'Predicted Heart Disease Mortality Rate: {prediction[0]}')\n",
    "    \n",
    "    except Exception as e:\n",
    "        print(f\"Error during prediction: {e}\")\n",
    "\n"
   ]
  },
  {
   "cell_type": "code",
   "execution_count": 2,
   "id": "a95d25ec-b1ac-4bf8-b9ba-8fa05c9e8195",
   "metadata": {
    "tags": []
   },
   "outputs": [
    {
     "ename": "NameError",
     "evalue": "name 'data' is not defined",
     "output_type": "error",
     "traceback": [
      "\u001b[1;31m---------------------------------------------------------------------------\u001b[0m",
      "\u001b[1;31mNameError\u001b[0m                                 Traceback (most recent call last)",
      "Cell \u001b[1;32mIn[2], line 17\u001b[0m\n\u001b[0;32m     14\u001b[0m df \u001b[38;5;241m=\u001b[39m pd\u001b[38;5;241m.\u001b[39mread_csv(url)\n\u001b[0;32m     16\u001b[0m \u001b[38;5;66;03m# Assuming 'target' is the column to be predicted (adjust as needed)\u001b[39;00m\n\u001b[1;32m---> 17\u001b[0m features \u001b[38;5;241m=\u001b[39m \u001b[43mdata\u001b[49m\u001b[38;5;241m.\u001b[39mdrop(\u001b[38;5;124m'\u001b[39m\u001b[38;5;124mtarget\u001b[39m\u001b[38;5;124m'\u001b[39m, axis\u001b[38;5;241m=\u001b[39m\u001b[38;5;241m1\u001b[39m)\n\u001b[0;32m     18\u001b[0m target \u001b[38;5;241m=\u001b[39m data[\u001b[38;5;124m'\u001b[39m\u001b[38;5;124mtarget\u001b[39m\u001b[38;5;124m'\u001b[39m]\n\u001b[0;32m     20\u001b[0m \u001b[38;5;66;03m# Split the data into training and testing sets\u001b[39;00m\n",
      "\u001b[1;31mNameError\u001b[0m: name 'data' is not defined"
     ]
    }
   ],
   "source": [
    "# Import necessary libraries\n",
    "import pandas as pd\n",
    "from sklearn.model_selection import train_test_split\n",
    "from sklearn.preprocessing import StandardScaler, LabelEncoder\n",
    "from sklearn.metrics import mean_squared_error, r2_score\n",
    "from sklearn.ensemble import RandomForestClassifier\n",
    "import joblib\n",
    "\n",
    "# Load the model\n",
    "model_file = 'heart_disease_regressor_model.pkl'\n",
    "loaded_model = joblib.load(model_file)\n",
    "\n",
    "url = \"https://data.cdc.gov/api/views/i2vk-mgdh/rows.csv?accessType=DOWNLOAD\"\n",
    "df = pd.read_csv(url)\n",
    "\n",
    "# Assuming 'target' is the column to be predicted (adjust as needed)\n",
    "features = data.drop('target', axis=1)\n",
    "target = data['target']\n",
    "\n",
    "# Split the data into training and testing sets\n",
    "X_train, X_test, y_train, y_test = train_test_split(features, target, test_size=0.2, random_state=42)\n",
    "\n",
    "# Scale the features\n",
    "scaler = StandardScaler()\n",
    "X_train_scaled = scaler.fit_transform(X_train)\n",
    "X_test_scaled = scaler.transform(X_test)\n",
    "\n",
    "# Encode target variable\n",
    "label_encoder = LabelEncoder()\n",
    "y_train_encoded = label_encoder.fit_transform(y_train)\n",
    "y_test_encoded = label_encoder.transform(y_test)\n",
    "\n",
    "# Create the model\n",
    "rf_classifier = RandomForestClassifier(random_state=42)\n",
    "\n",
    "# Train the model\n",
    "rf_classifier.fit(X_train_scaled, y_train_encoded)\n",
    "\n",
    "# Make predictions using the loaded model\n",
    "y_pred = loaded_model.predict(X_test_scaled)\n",
    "\n",
    "# Calculate performance metrics\n",
    "mse = mean_squared_error(y_test_encoded, y_pred)\n",
    "r2 = r2_score(y_test_encoded, y_pred)\n",
    "\n",
    "print(f'Mean Squared Error: {mse}')\n",
    "print(f'R-squared: {r2}')\n"
   ]
  },
  {
   "cell_type": "markdown",
   "id": "b0ba3767-f9db-47a9-9744-44f6b5636210",
   "metadata": {},
   "source": [
    "## The accuracy score achieved using Random Forest ##"
   ]
  },
  {
   "cell_type": "code",
   "execution_count": 1,
   "id": "cfc99367-8e05-4aa5-8af2-578ff882a8f8",
   "metadata": {
    "tags": []
   },
   "outputs": [
    {
     "ename": "NameError",
     "evalue": "name 'rf_classifier' is not defined",
     "output_type": "error",
     "traceback": [
      "\u001b[1;31m---------------------------------------------------------------------------\u001b[0m",
      "\u001b[1;31mNameError\u001b[0m                                 Traceback (most recent call last)",
      "Cell \u001b[1;32mIn[1], line 4\u001b[0m\n\u001b[0;32m      1\u001b[0m \u001b[38;5;28;01mfrom\u001b[39;00m \u001b[38;5;21;01msklearn\u001b[39;00m\u001b[38;5;21;01m.\u001b[39;00m\u001b[38;5;21;01mmetrics\u001b[39;00m \u001b[38;5;28;01mimport\u001b[39;00m accuracy_score\n\u001b[0;32m      3\u001b[0m \u001b[38;5;66;03m# Predict on the test set\u001b[39;00m\n\u001b[1;32m----> 4\u001b[0m Y_pred_rf \u001b[38;5;241m=\u001b[39m \u001b[43mrf_classifier\u001b[49m\u001b[38;5;241m.\u001b[39mpredict(X_test_scaled)\n\u001b[0;32m      6\u001b[0m \u001b[38;5;66;03m# Calculate accuracy score\u001b[39;00m\n\u001b[0;32m      7\u001b[0m score_rf \u001b[38;5;241m=\u001b[39m \u001b[38;5;28mround\u001b[39m(accuracy_score(Y_pred_rf, Y_test_encoded) \u001b[38;5;241m*\u001b[39m \u001b[38;5;241m100\u001b[39m, \u001b[38;5;241m2\u001b[39m)\n",
      "\u001b[1;31mNameError\u001b[0m: name 'rf_classifier' is not defined"
     ]
    }
   ],
   "source": [
    "from sklearn.metrics import accuracy_score\n",
    "\n",
    "# Predict on the test set\n",
    "Y_pred_rf = rf_classifier.predict(X_test_scaled)\n",
    "\n",
    "# Calculate accuracy score\n",
    "score_rf = round(accuracy_score(Y_pred_rf, Y_test_encoded) * 100, 2)\n",
    "\n",
    "# Print the accuracy score\n",
    "print(\"The accuracy score achieved using Random Forest is: \" + str(score_rf) + \" %\")\n"
   ]
  },
  {
   "cell_type": "markdown",
   "id": "e34ac4df-44cb-414c-a215-510de2308f47",
   "metadata": {},
   "source": [
    "##  Output final score ##"
   ]
  },
  {
   "cell_type": "code",
   "execution_count": null,
   "id": "6ac66d10-9ab5-4057-a5f3-d0c44b0b5666",
   "metadata": {
    "tags": []
   },
   "outputs": [],
   "source": [
    "import seaborn as sns\n",
    "import matplotlib.pyplot as plt\n",
    "\n",
    "# Accuracy scores for algorithms (example values)\n",
    "algorithms = [\"Random Forest\"]\n",
    "scores = [83.5]  # Example accuracy score for Random Forest\n",
    "\n",
    "# Create a DataFrame from algorithms and scores\n",
    "data = pd.DataFrame({'Algorithms': algorithms, 'Accuracy': scores})\n",
    "\n",
    "# Set the plot size\n",
    "plt.figure(figsize=(10, 6))\n",
    "\n",
    "# Plot the barplot using Seaborn\n",
    "sns.barplot(x='Algorithms', y='Accuracy', data=data)\n",
    "\n",
    "# Set labels and title\n",
    "plt.xlabel(\"Algorithms\")\n",
    "plt.ylabel(\"Accuracy\")\n",
    "plt.title(\"Accuracy Scores of Algorithms\")\n",
    "\n",
    "# Show the plot\n",
    "plt.show()\n"
   ]
  },
  {
   "cell_type": "markdown",
   "id": "d6c7deb2-0fc2-4b37-8ae6-61bdd2dabc8d",
   "metadata": {},
   "source": [
    "## Backend Development ##\n",
    "### Model Development ###\n",
    "#### Train your machine learning model using the provided dataset.\n",
    "#### Save the trained model using jobli ####"
   ]
  },
  {
   "cell_type": "code",
   "execution_count": null,
   "id": "71f8d5ab-0acc-452f-9f2f-2d1ae29a0162",
   "metadata": {},
   "outputs": [],
   "source": [
    "# DUZEL BURAYI \n",
    "import pandas as pd\n",
    "from sklearn.model_selection import train_test_split\n",
    "from sklearn.preprocessing import LabelEncoder, StandardScaler\n",
    "from sklearn.ensemble import RandomForestClassifier\n",
    "import joblib\n",
    "\n",
    "# Load the dataset\n",
    "url = \"https://data.cdc.gov/api/views/i2vk-mgdh/rows.csv?accessType=DOWNLOAD\"\n",
    "df = pd.read_csv(url)\n",
    "\n",
    "# Data Cleaning and Preprocessing\n",
    "data_cleaned = df[['Year', 'LocationAbbr', 'LocationDesc', 'GeographicLevel', \n",
    "                   'DataSource', 'Class', 'Topic', 'Data_Value']]\n",
    "data_cleaned = data_cleaned.dropna(subset=['Data_Value'])\n",
    "\n",
    "label_encoders = {}\n",
    "for column in ['LocationAbbr', 'LocationDesc', 'GeographicLevel', 'DataSource', 'Class', 'Topic']:\n",
    "    le = LabelEncoder()\n",
    "    data_cleaned[column] = le.fit_transform(data_cleaned[column])\n",
    "    label_encoders[column] = le\n",
    "\n",
    "features = data_cleaned[['Year', 'LocationAbbr', 'LocationDesc', 'GeographicLevel', 'DataSource', 'Class', 'Topic']]\n",
    "data_cleaned['Data_Value_Category'] = pd.cut(data_cleaned['Data_Value'], bins=3, labels=['low', 'medium', 'high'])\n",
    "target = data_cleaned['Data_Value_Category']\n",
    "\n",
    "X_train, X_test, Y_train, Y_test = train_test_split(features, target, test_size=0.2, random_state=42)\n",
    "\n",
    "scaler = StandardScaler()\n",
    "X_train_scaled = scaler.fit_transform(X_train)\n",
    "X_test_scaled = scaler.transform(X_test)\n",
    "\n",
    "label_encoder = LabelEncoder()\n",
    "Y_train_encoded = label_encoder.fit_transform(Y_train)\n",
    "Y_test_encoded = label_encoder.transform(Y_test)\n",
    "\n",
    "rf_classifier = RandomForestClassifier(random_state=42)\n",
    "rf_classifier.fit(X_train_scaled, Y_train_encoded)\n",
    "\n",
    "joblib.dump(rf_classifier, 'heart_disease_regressor_model.pkl')\n",
    "joblib.dump(scaler, 'scaler.pkl')\n",
    "joblib.dump(label_encoders, 'label_encoders.pkl')\n",
    "joblib.dump(label_encoder, 'target_label_encoder.pkl')\n"
   ]
  },
  {
   "cell_type": "code",
   "execution_count": null,
   "id": "46a425b7-0424-45dc-85a8-62598516c11a",
   "metadata": {},
   "outputs": [],
   "source": []
  }
 ],
 "metadata": {
  "kernelspec": {
   "display_name": "Python 3 (ipykernel)",
   "language": "python",
   "name": "python3"
  },
  "language_info": {
   "codemirror_mode": {
    "name": "ipython",
    "version": 3
   },
   "file_extension": ".py",
   "mimetype": "text/x-python",
   "name": "python",
   "nbconvert_exporter": "python",
   "pygments_lexer": "ipython3",
   "version": "3.10.13"
  },
  "toc-autonumbering": true
 },
 "nbformat": 4,
 "nbformat_minor": 5
}
